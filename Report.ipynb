{
 "cells": [
  {
   "cell_type": "markdown",
   "metadata": {},
   "source": [
    "# Training visual prosthesis using Convolutional Neural Network"
   ]
  },
  {
   "cell_type": "markdown",
   "metadata": {},
   "source": [
    "## 1/ Context\n",
    "Retinal implants are ....\n",
    "\n",
    "import some images"
   ]
  },
  {
   "cell_type": "code",
   "execution_count": 66,
   "metadata": {
    "hide_input": true
   },
   "outputs": [],
   "source": [
    "# Loading libraries\n",
    "import numpy as np\n",
    "import pandas as pd\n",
    "import matplotlib.pyplot as plt\n",
    "import matplotlib as mpl\n",
    "from sklearn import tree\n",
    "import os\n",
    "import random\n",
    "\n",
    "mpl.rc('image', cmap='gray_r')"
   ]
  },
  {
   "cell_type": "markdown",
   "metadata": {},
   "source": [
    "## The first-test transformation: a one row translation to the left\n",
    "For the first try, we use a translation transformation based on a 4 by 4 pixels image in black and white.\n",
    "We can easily build the transformation matrices that will generate the \"mangled\" image based on a real input, as well as the transformation that will generate the corrected input.\n",
    "\n",
    "$ P = \\begin{bmatrix} 0 & 0 & 0 &1\\\\\n",
    "                      1 & 0 & 0 & 0\\\\\n",
    "                      0 & 1 & 0 & 0\\\\\n",
    "                      0 & 0 & 1 & 0\n",
    "        \\end{bmatrix} $ and \n",
    "$ P^{\\star} = \\begin{bmatrix} 0 & 1 & 0 &0\\\\\n",
    "                      0 & 0 & 1 & 0\\\\\n",
    "                      0 & 0 & 0 & 1\\\\\n",
    "                      1 & 0 & 0 & 0\n",
    "        \\end{bmatrix} $\n",
    "        \n",
    "$M_{mangled} = M_{real}P $ and  $M^{\\star} = M_{real}P^{\\star} $"
   ]
  },
  {
   "cell_type": "code",
   "execution_count": 82,
   "metadata": {
    "hide_input": false
   },
   "outputs": [],
   "source": [
    "# Transformation matrices\n",
    "P = np.array([[0, 0, 0, 1],\n",
    "              [1, 0, 0, 0],\n",
    "              [0, 1, 0, 0],\n",
    "              [0, 0, 1, 0]])\n",
    "Pstar = np.array([[0, 1, 0, 0],\n",
    "                  [0, 0, 1, 0],\n",
    "                  [0, 0, 0, 1],\n",
    "                  [1, 0, 0, 0]])"
   ]
  },
  {
   "cell_type": "code",
   "execution_count": 79,
   "metadata": {},
   "outputs": [],
   "source": [
    "# real image\n",
    "Mreal = np.array([[0, 0, 0, 0],\n",
    "                  [0, 1, 1, 0],\n",
    "                  [0, 1, 1, 0],\n",
    "                  [0, 1, 1, 0]])\n",
    "Mreal = np.ones((4,4)) - Mreal\n",
    "# distorted image\n",
    "Mmang = Mreal@P\n",
    "# corrected input\n",
    "Mstar = Mreal@Pstar\n"
   ]
  },
  {
   "cell_type": "code",
   "execution_count": 81,
   "metadata": {
    "hide_input": true,
    "scrolled": false
   },
   "outputs": [
    {
     "data": {
      "image/png": "[encoded data removed]",
      "text/plain": [
       "<Figure size 576x576 with 4 Axes>"
      ]
     },
     "metadata": {},
     "output_type": "display_data"
    }
   ],
   "source": [
    "# plt.figure(1)\n",
    "def remove_ticks():\n",
    "    plt.tick_params(\n",
    "    axis='x',          # changes apply to the x-axis\n",
    "    which='both',      # both major and minor ticks are affected\n",
    "    bottom=False,      # ticks along the bottom edge are off\n",
    "    top=False,         # ticks along the top edge are off\n",
    "    labelbottom=False) # labels along the bottom edge are off\n",
    "    plt.tick_params(\n",
    "    axis='y',          # changes apply to the x-axis\n",
    "    which='both',      # both major and minor ticks are affected\n",
    "    bottom=False,      # ticks along the bottom edge are off\n",
    "    top=False,         # ticks along the top edge are off\n",
    "    left=False,\n",
    "    labelleft=False,\n",
    "    labelbottom=False) # labels along the bottom edge are off    \n",
    "    return\n",
    "\n",
    "def vis_matrices(Mr, Mm, Mst, P):\n",
    "    if Mr.shape[0]==1:\n",
    "        Mr = Mr.reshape(int(np.sqrt(Mr.shape[1])), int(np.sqrt(Mr.shape[1])))\n",
    "        Mm = Mm.reshape(int(np.sqrt(Mm.shape[1])), int(np.sqrt(Mm.shape[1])))\n",
    "        Mst = Mst.reshape(int(np.sqrt(Mst.shape[1])), int(np.sqrt(Mst.shape[1])))\n",
    "    \n",
    "    fig, (ax1,ax2) = plt.subplots(nrows=2,ncols=2) #, squeeze=True, sharey=True)\n",
    "    fig.set_size_inches(8,8)\n",
    "\n",
    "    plt.sca(ax1[0])\n",
    "    plt.imshow(Mr)\n",
    "    plt.title(\"Real image\")\n",
    "    remove_ticks()\n",
    "\n",
    "    plt.sca(ax2[0])\n",
    "    plt.imshow(Mm)\n",
    "    plt.title(\"Distorted image\")\n",
    "    remove_ticks()\n",
    "\n",
    "    plt.sca(ax1[1])\n",
    "    plt.imshow(Mst)\n",
    "    plt.title(\"Corrected input\")\n",
    "    remove_ticks()\n",
    "\n",
    "    plt.sca(ax2[1])\n",
    "    plt.imshow(Mst@P)\n",
    "    plt.title(\"Corrected visualization\")\n",
    "    remove_ticks()\n",
    "    \n",
    "    \n",
    "vis_matrices(Mreal, Mmang, Mstar, P)"
   ]
  },
  {
   "cell_type": "markdown",
   "metadata": {},
   "source": [
    "## Machine-Learning approach"
   ]
  },
  {
   "cell_type": "code",
   "execution_count": 5,
   "metadata": {},
   "outputs": [],
   "source": [
    "nbpix = 4\n"
   ]
  },
  {
   "cell_type": "code",
   "execution_count": null,
   "metadata": {},
   "outputs": [],
   "source": []
  },
  {
   "cell_type": "code",
   "execution_count": null,
   "metadata": {},
   "outputs": [],
   "source": []
  },
  {
   "cell_type": "code",
   "execution_count": null,
   "metadata": {},
   "outputs": [],
   "source": []
  },
  {
   "cell_type": "code",
   "execution_count": null,
   "metadata": {},
   "outputs": [],
   "source": []
  },
  {
   "cell_type": "code",
   "execution_count": null,
   "metadata": {},
   "outputs": [],
   "source": []
  },
  {
   "cell_type": "code",
   "execution_count": 22,
   "metadata": {},
   "outputs": [],
   "source": [
    "# let's try to train the model with only one pixel on each figure. \n",
    "# then we can use categorical for the result: the cqtegory being the position of the pixel.\n",
    "# input a grid, output a position between one to 16\n",
    "\n",
    "# Generating the training data.\n",
    "idx = range(0,nbpix**2,1)\n",
    "\n",
    "Mreal_tab = np.zeros((len(idx),nbpix*nbpix))\n",
    "Mmang_tab = np.zeros((len(idx),nbpix*nbpix))\n",
    "Mstar_tab = np.zeros((len(idx),nbpix*nbpix))\n",
    "\n",
    "for ii in idx:\n",
    "    Mreal_tab[ii,ii] = 1\n",
    "    Mmang_tab[ii,:] = (Mreal_tab[ii,:].reshape(nbpix,nbpix)@P).reshape(1,nbpix**2)\n",
    "    Mstar_tab[ii,:] = (Mreal_tab[ii,:].reshape(nbpix,nbpix)@Pstar).reshape(1,nbpix**2)\n",
    "\n",
    "    "
   ]
  },
  {
   "cell_type": "code",
   "execution_count": 23,
   "metadata": {},
   "outputs": [
    {
     "data": {
      "image/png": "[encoded data removed]",
      "text/plain": [
       "<Figure size 576x576 with 4 Axes>"
      ]
     },
     "metadata": {},
     "output_type": "display_data"
    }
   ],
   "source": [
    "n = 0\n",
    "vis_matrices(Mreal_tab[n,:].reshape(nbpix,nbpix), Mmang_tab[n,:].reshape(nbpix,nbpix), Mstar_tab[n,:].reshape(nbpix,nbpix), P)    "
   ]
  },
  {
   "cell_type": "code",
   "execution_count": 24,
   "metadata": {},
   "outputs": [],
   "source": [
    "from keras.models import Sequential\n",
    "from keras.utils import to_categorical\n",
    "from keras.layers import Dense\n",
    "from keras.datasets import mnist"
   ]
  },
  {
   "cell_type": "code",
   "execution_count": 25,
   "metadata": {},
   "outputs": [],
   "source": [
    "# the training input will the matrix of the real images with one pixel\n",
    "X_train = Mreal_tab"
   ]
  },
  {
   "cell_type": "code",
   "execution_count": 28,
   "metadata": {},
   "outputs": [
    {
     "name": "stdout",
     "output_type": "stream",
     "text": [
      "[[0. 0. 0. 1. 0. 0. 0. 0. 0. 0. 0. 0. 0. 0. 0. 0.]\n",
      " [1. 0. 0. 0. 0. 0. 0. 0. 0. 0. 0. 0. 0. 0. 0. 0.]\n",
      " [0. 1. 0. 0. 0. 0. 0. 0. 0. 0. 0. 0. 0. 0. 0. 0.]\n",
      " [0. 0. 1. 0. 0. 0. 0. 0. 0. 0. 0. 0. 0. 0. 0. 0.]\n",
      " [0. 0. 0. 0. 0. 0. 0. 1. 0. 0. 0. 0. 0. 0. 0. 0.]\n",
      " [0. 0. 0. 0. 1. 0. 0. 0. 0. 0. 0. 0. 0. 0. 0. 0.]\n",
      " [0. 0. 0. 0. 0. 1. 0. 0. 0. 0. 0. 0. 0. 0. 0. 0.]\n",
      " [0. 0. 0. 0. 0. 0. 1. 0. 0. 0. 0. 0. 0. 0. 0. 0.]\n",
      " [0. 0. 0. 0. 0. 0. 0. 0. 0. 0. 0. 1. 0. 0. 0. 0.]\n",
      " [0. 0. 0. 0. 0. 0. 0. 0. 1. 0. 0. 0. 0. 0. 0. 0.]\n",
      " [0. 0. 0. 0. 0. 0. 0. 0. 0. 1. 0. 0. 0. 0. 0. 0.]\n",
      " [0. 0. 0. 0. 0. 0. 0. 0. 0. 0. 1. 0. 0. 0. 0. 0.]\n",
      " [0. 0. 0. 0. 0. 0. 0. 0. 0. 0. 0. 0. 0. 0. 0. 1.]\n",
      " [0. 0. 0. 0. 0. 0. 0. 0. 0. 0. 0. 0. 1. 0. 0. 0.]\n",
      " [0. 0. 0. 0. 0. 0. 0. 0. 0. 0. 0. 0. 0. 1. 0. 0.]\n",
      " [0. 0. 0. 0. 0. 0. 0. 0. 0. 0. 0. 0. 0. 0. 1. 0.]]\n"
     ]
    },
    {
     "data": {
      "text/plain": [
       "array([[0., 1., 0., 0., 0., 0., 0., 0., 0., 0., 0., 0., 0., 0., 0., 0.],\n",
       "       [0., 0., 1., 0., 0., 0., 0., 0., 0., 0., 0., 0., 0., 0., 0., 0.],\n",
       "       [0., 0., 0., 1., 0., 0., 0., 0., 0., 0., 0., 0., 0., 0., 0., 0.],\n",
       "       [1., 0., 0., 0., 0., 0., 0., 0., 0., 0., 0., 0., 0., 0., 0., 0.],\n",
       "       [0., 0., 0., 0., 0., 1., 0., 0., 0., 0., 0., 0., 0., 0., 0., 0.],\n",
       "       [0., 0., 0., 0., 0., 0., 1., 0., 0., 0., 0., 0., 0., 0., 0., 0.],\n",
       "       [0., 0., 0., 0., 0., 0., 0., 1., 0., 0., 0., 0., 0., 0., 0., 0.],\n",
       "       [0., 0., 0., 0., 1., 0., 0., 0., 0., 0., 0., 0., 0., 0., 0., 0.],\n",
       "       [0., 0., 0., 0., 0., 0., 0., 0., 0., 1., 0., 0., 0., 0., 0., 0.],\n",
       "       [0., 0., 0., 0., 0., 0., 0., 0., 0., 0., 1., 0., 0., 0., 0., 0.],\n",
       "       [0., 0., 0., 0., 0., 0., 0., 0., 0., 0., 0., 1., 0., 0., 0., 0.],\n",
       "       [0., 0., 0., 0., 0., 0., 0., 0., 1., 0., 0., 0., 0., 0., 0., 0.],\n",
       "       [0., 0., 0., 0., 0., 0., 0., 0., 0., 0., 0., 0., 0., 1., 0., 0.],\n",
       "       [0., 0., 0., 0., 0., 0., 0., 0., 0., 0., 0., 0., 0., 0., 1., 0.],\n",
       "       [0., 0., 0., 0., 0., 0., 0., 0., 0., 0., 0., 0., 0., 0., 0., 1.],\n",
       "       [0., 0., 0., 0., 0., 0., 0., 0., 0., 0., 0., 0., 1., 0., 0., 0.]],\n",
       "      dtype=float32)"
      ]
     },
     "execution_count": 28,
     "metadata": {},
     "output_type": "execute_result"
    }
   ],
   "source": [
    "# the training output will be the category corresponding to the position of the pixel in the mangled image\n",
    "y_train = [np.where(Mmang_tab[ii,:]==1)[0].item(0) for ii in idx]\n",
    "y_train = to_categorical(y_train, nbpix**2)\n",
    "print(y_train)\n",
    "\n",
    "y_train_cor = [np.where(Mstar_tab[ii,:]==1)[0].item(0) for ii in idx]\n",
    "y_train_cor = to_categorical(y_train_cor, nbpix**2)\n",
    "# y_train_cor\n",
    "y_train_cor"
   ]
  },
  {
   "cell_type": "code",
   "execution_count": null,
   "metadata": {},
   "outputs": [],
   "source": []
  },
  {
   "cell_type": "code",
   "execution_count": 29,
   "metadata": {},
   "outputs": [],
   "source": [
    "# creating the models\n",
    "model_mangler = Sequential()\n",
    "model_mangler.add(Dense(100, activation='relu', input_dim=nbpix**2))\n",
    "model_mangler.add(Dense(100, activation='relu'))\n",
    "model_mangler.add(Dense(nbpix**2, activation='softmax'))\n",
    "# Inversion strategy doesnt work very well...\n",
    "# we are going to try using another model, trained on the corrected input.\n",
    "model_corrector = Sequential()\n",
    "model_corrector.add(Dense(100, activation='relu', input_dim=nbpix**2))\n",
    "model_corrector.add(Dense(100, activation='relu'))\n",
    "model_corrector.add(Dense(nbpix**2, activation='softmax'))"
   ]
  },
  {
   "cell_type": "code",
   "execution_count": 30,
   "metadata": {},
   "outputs": [],
   "source": [
    "# Compile the models\n",
    "model_mangler.compile(loss=\"categorical_crossentropy\",\n",
    "              optimizer=\"adam\", metrics=['accuracy'])\n",
    "model_corrector.compile(loss=\"categorical_crossentropy\",\n",
    "              optimizer=\"adam\", metrics=['accuracy'])"
   ]
  },
  {
   "cell_type": "code",
   "execution_count": 32,
   "metadata": {},
   "outputs": [
    {
     "name": "stdout",
     "output_type": "stream",
     "text": [
      "_________________________________________________________________\n",
      "Layer (type)                 Output Shape              Param #   \n",
      "=================================================================\n",
      "dense_7 (Dense)              (None, 100)               1700      \n",
      "_________________________________________________________________\n",
      "dense_8 (Dense)              (None, 100)               10100     \n",
      "_________________________________________________________________\n",
      "dense_9 (Dense)              (None, 16)                1616      \n",
      "=================================================================\n",
      "Total params: 13,416\n",
      "Trainable params: 13,416\n",
      "Non-trainable params: 0\n",
      "_________________________________________________________________\n",
      "None\n",
      "_________________________________________________________________\n",
      "Layer (type)                 Output Shape              Param #   \n",
      "=================================================================\n",
      "dense_10 (Dense)             (None, 100)               1700      \n",
      "_________________________________________________________________\n",
      "dense_11 (Dense)             (None, 100)               10100     \n",
      "_________________________________________________________________\n",
      "dense_12 (Dense)             (None, 16)                1616      \n",
      "=================================================================\n",
      "Total params: 13,416\n",
      "Trainable params: 13,416\n",
      "Non-trainable params: 0\n",
      "_________________________________________________________________\n",
      "None\n"
     ]
    }
   ],
   "source": [
    "print(model_mangler.summary())\n",
    "print(model_corrector.summary())"
   ]
  },
  {
   "cell_type": "code",
   "execution_count": 33,
   "metadata": {},
   "outputs": [
    {
     "name": "stdout",
     "output_type": "stream",
     "text": [
      "Epoch 1/100\n",
      " - 0s - loss: 2.7691 - acc: 0.0625\n",
      "Epoch 2/100\n",
      " - 0s - loss: 2.7526 - acc: 0.0625\n",
      "Epoch 3/100\n",
      " - 0s - loss: 2.7312 - acc: 0.1250\n",
      "Epoch 4/100\n",
      " - 0s - loss: 2.7103 - acc: 0.2500\n",
      "Epoch 5/100\n",
      " - 0s - loss: 2.6899 - acc: 0.3125\n",
      "Epoch 6/100\n",
      " - 0s - loss: 2.6700 - acc: 0.3125\n",
      "Epoch 7/100\n",
      " - 0s - loss: 2.6505 - acc: 0.3125\n",
      "Epoch 8/100\n",
      " - 0s - loss: 2.6309 - acc: 0.3750\n",
      "Epoch 9/100\n",
      " - 0s - loss: 2.6115 - acc: 0.5000\n",
      "Epoch 10/100\n",
      " - 0s - loss: 2.5921 - acc: 0.5625\n",
      "Epoch 11/100\n",
      " - 0s - loss: 2.5723 - acc: 0.5625\n",
      "Epoch 12/100\n",
      " - 0s - loss: 2.5524 - acc: 0.6250\n",
      "Epoch 13/100\n",
      " - 0s - loss: 2.5323 - acc: 0.6875\n",
      "Epoch 14/100\n",
      " - 0s - loss: 2.5122 - acc: 0.7500\n",
      "Epoch 15/100\n",
      " - 0s - loss: 2.4916 - acc: 0.8750\n",
      "Epoch 16/100\n",
      " - 0s - loss: 2.4710 - acc: 0.8750\n",
      "Epoch 17/100\n",
      " - 0s - loss: 2.4500 - acc: 0.9375\n",
      "Epoch 18/100\n",
      " - 0s - loss: 2.4287 - acc: 0.9375\n",
      "Epoch 19/100\n",
      " - 0s - loss: 2.4066 - acc: 1.0000\n",
      "Epoch 20/100\n",
      " - 0s - loss: 2.3839 - acc: 1.0000\n",
      "Epoch 21/100\n",
      " - 0s - loss: 2.3607 - acc: 1.0000\n",
      "Epoch 22/100\n",
      " - 0s - loss: 2.3367 - acc: 1.0000\n",
      "Epoch 23/100\n",
      " - 0s - loss: 2.3120 - acc: 1.0000\n",
      "Epoch 24/100\n",
      " - 0s - loss: 2.2867 - acc: 1.0000\n",
      "Epoch 25/100\n",
      " - 0s - loss: 2.2606 - acc: 1.0000\n",
      "Epoch 26/100\n",
      " - 0s - loss: 2.2339 - acc: 1.0000\n",
      "Epoch 27/100\n",
      " - 0s - loss: 2.2064 - acc: 1.0000\n",
      "Epoch 28/100\n",
      " - 0s - loss: 2.1784 - acc: 1.0000\n",
      "Epoch 29/100\n",
      " - 0s - loss: 2.1495 - acc: 1.0000\n",
      "Epoch 30/100\n",
      " - 0s - loss: 2.1198 - acc: 1.0000\n",
      "Epoch 31/100\n",
      " - 0s - loss: 2.0894 - acc: 1.0000\n",
      "Epoch 32/100\n",
      " - 0s - loss: 2.0582 - acc: 1.0000\n",
      "Epoch 33/100\n",
      " - 0s - loss: 2.0261 - acc: 1.0000\n",
      "Epoch 34/100\n",
      " - 0s - loss: 1.9934 - acc: 1.0000\n",
      "Epoch 35/100\n",
      " - 0s - loss: 1.9597 - acc: 1.0000\n",
      "Epoch 36/100\n",
      " - 0s - loss: 1.9254 - acc: 1.0000\n",
      "Epoch 37/100\n",
      " - 0s - loss: 1.8903 - acc: 1.0000\n",
      "Epoch 38/100\n",
      " - 0s - loss: 1.8542 - acc: 1.0000\n",
      "Epoch 39/100\n",
      " - 0s - loss: 1.8174 - acc: 1.0000\n",
      "Epoch 40/100\n",
      " - 0s - loss: 1.7800 - acc: 1.0000\n",
      "Epoch 41/100\n",
      " - 0s - loss: 1.7417 - acc: 1.0000\n",
      "Epoch 42/100\n",
      " - 0s - loss: 1.7027 - acc: 1.0000\n",
      "Epoch 43/100\n",
      " - 0s - loss: 1.6627 - acc: 1.0000\n",
      "Epoch 44/100\n",
      " - 0s - loss: 1.6221 - acc: 1.0000\n",
      "Epoch 45/100\n",
      " - 0s - loss: 1.5809 - acc: 1.0000\n",
      "Epoch 46/100\n",
      " - 0s - loss: 1.5390 - acc: 1.0000\n",
      "Epoch 47/100\n",
      " - 0s - loss: 1.4965 - acc: 1.0000\n",
      "Epoch 48/100\n",
      " - 0s - loss: 1.4534 - acc: 1.0000\n",
      "Epoch 49/100\n",
      " - 0s - loss: 1.4098 - acc: 1.0000\n",
      "Epoch 50/100\n",
      " - 0s - loss: 1.3657 - acc: 1.0000\n",
      "Epoch 51/100\n",
      " - 0s - loss: 1.3210 - acc: 1.0000\n",
      "Epoch 52/100\n",
      " - 0s - loss: 1.2763 - acc: 1.0000\n",
      "Epoch 53/100\n",
      " - 0s - loss: 1.2315 - acc: 1.0000\n",
      "Epoch 54/100\n",
      " - 0s - loss: 1.1866 - acc: 1.0000\n",
      "Epoch 55/100\n",
      " - 0s - loss: 1.1416 - acc: 1.0000\n",
      "Epoch 56/100\n",
      " - 0s - loss: 1.0966 - acc: 1.0000\n",
      "Epoch 57/100\n",
      " - 0s - loss: 1.0513 - acc: 1.0000\n",
      "Epoch 58/100\n",
      " - 0s - loss: 1.0067 - acc: 1.0000\n",
      "Epoch 59/100\n",
      " - 0s - loss: 0.9619 - acc: 1.0000\n",
      "Epoch 60/100\n",
      " - 0s - loss: 0.9181 - acc: 1.0000\n",
      "Epoch 61/100\n",
      " - 0s - loss: 0.8748 - acc: 1.0000\n",
      "Epoch 62/100\n",
      " - 0s - loss: 0.8322 - acc: 1.0000\n",
      "Epoch 63/100\n",
      " - 0s - loss: 0.7901 - acc: 1.0000\n",
      "Epoch 64/100\n",
      " - 0s - loss: 0.7491 - acc: 1.0000\n",
      "Epoch 65/100\n",
      " - 0s - loss: 0.7089 - acc: 1.0000\n",
      "Epoch 66/100\n",
      " - 0s - loss: 0.6698 - acc: 1.0000\n",
      "Epoch 67/100\n",
      " - 0s - loss: 0.6318 - acc: 1.0000\n",
      "Epoch 68/100\n",
      " - 0s - loss: 0.5951 - acc: 1.0000\n",
      "Epoch 69/100\n",
      " - 0s - loss: 0.5596 - acc: 1.0000\n",
      "Epoch 70/100\n",
      " - 0s - loss: 0.5254 - acc: 1.0000\n",
      "Epoch 71/100\n",
      " - 0s - loss: 0.4926 - acc: 1.0000\n",
      "Epoch 72/100\n",
      " - 0s - loss: 0.4615 - acc: 1.0000\n",
      "Epoch 73/100\n",
      " - 0s - loss: 0.4316 - acc: 1.0000\n",
      "Epoch 74/100\n",
      " - 0s - loss: 0.4035 - acc: 1.0000\n",
      "Epoch 75/100\n",
      " - 0s - loss: 0.3767 - acc: 1.0000\n",
      "Epoch 76/100\n",
      " - 0s - loss: 0.3517 - acc: 1.0000\n",
      "Epoch 77/100\n",
      " - 0s - loss: 0.3282 - acc: 1.0000\n",
      "Epoch 78/100\n",
      " - 0s - loss: 0.3062 - acc: 1.0000\n",
      "Epoch 79/100\n",
      " - 0s - loss: 0.2857 - acc: 1.0000\n",
      "Epoch 80/100\n",
      " - 0s - loss: 0.2664 - acc: 1.0000\n",
      "Epoch 81/100\n",
      " - 0s - loss: 0.2484 - acc: 1.0000\n",
      "Epoch 82/100\n",
      " - 0s - loss: 0.2319 - acc: 1.0000\n",
      "Epoch 83/100\n",
      " - 0s - loss: 0.2165 - acc: 1.0000\n",
      "Epoch 84/100\n",
      " - 0s - loss: 0.2022 - acc: 1.0000\n",
      "Epoch 85/100\n",
      " - 0s - loss: 0.1891 - acc: 1.0000\n",
      "Epoch 86/100\n",
      " - 0s - loss: 0.1769 - acc: 1.0000\n",
      "Epoch 87/100\n",
      " - 0s - loss: 0.1657 - acc: 1.0000\n",
      "Epoch 88/100\n",
      " - 0s - loss: 0.1553 - acc: 1.0000\n",
      "Epoch 89/100\n",
      " - 0s - loss: 0.1457 - acc: 1.0000\n",
      "Epoch 90/100\n",
      " - 0s - loss: 0.1369 - acc: 1.0000\n",
      "Epoch 91/100\n",
      " - 0s - loss: 0.1288 - acc: 1.0000\n",
      "Epoch 92/100\n",
      " - 0s - loss: 0.1213 - acc: 1.0000\n",
      "Epoch 93/100\n",
      " - 0s - loss: 0.1144 - acc: 1.0000\n",
      "Epoch 94/100\n",
      " - 0s - loss: 0.1080 - acc: 1.0000\n",
      "Epoch 95/100\n",
      " - 0s - loss: 0.1022 - acc: 1.0000\n",
      "Epoch 96/100\n",
      " - 0s - loss: 0.0968 - acc: 1.0000\n",
      "Epoch 97/100\n",
      " - 0s - loss: 0.0918 - acc: 1.0000\n",
      "Epoch 98/100\n",
      " - 0s - loss: 0.0871 - acc: 1.0000\n",
      "Epoch 99/100\n",
      " - 0s - loss: 0.0829 - acc: 1.0000\n",
      "Epoch 100/100\n",
      " - 0s - loss: 0.0789 - acc: 1.0000\n"
     ]
    },
    {
     "data": {
      "text/plain": [
       "<keras.callbacks.History at 0xfe89470>"
      ]
     },
     "execution_count": 33,
     "metadata": {},
     "output_type": "execute_result"
    }
   ],
   "source": [
    "# train the model\n",
    "model_mangler.fit( X_train,\n",
    "    y_train,\n",
    "    epochs=100,\n",
    "    shuffle=True,\n",
    "    verbose=2\n",
    ")"
   ]
  },
  {
   "cell_type": "code",
   "execution_count": 41,
   "metadata": {},
   "outputs": [
    {
     "name": "stdout",
     "output_type": "stream",
     "text": [
      "Epoch 1/100\n",
      " - 0s - loss: 4.8521 - acc: 0.0000e+00\n",
      "Epoch 2/100\n",
      " - 0s - loss: 4.8149 - acc: 0.0000e+00\n",
      "Epoch 3/100\n",
      " - 0s - loss: 4.7296 - acc: 0.0000e+00\n",
      "Epoch 4/100\n",
      " - 0s - loss: 4.6113 - acc: 0.0000e+00\n",
      "Epoch 5/100\n",
      " - 0s - loss: 4.4697 - acc: 0.0000e+00\n",
      "Epoch 6/100\n",
      " - 0s - loss: 4.3125 - acc: 0.0000e+00\n",
      "Epoch 7/100\n",
      " - 0s - loss: 4.1452 - acc: 0.0000e+00\n",
      "Epoch 8/100\n",
      " - 0s - loss: 3.9724 - acc: 0.0000e+00\n",
      "Epoch 9/100\n",
      " - 0s - loss: 3.7980 - acc: 0.0000e+00\n",
      "Epoch 10/100\n",
      " - 0s - loss: 3.6248 - acc: 0.0000e+00\n",
      "Epoch 11/100\n",
      " - 0s - loss: 3.4546 - acc: 0.0000e+00\n",
      "Epoch 12/100\n",
      " - 0s - loss: 3.2890 - acc: 0.0000e+00\n",
      "Epoch 13/100\n",
      " - 0s - loss: 3.1295 - acc: 0.0000e+00\n",
      "Epoch 14/100\n",
      " - 0s - loss: 2.9762 - acc: 0.0000e+00\n",
      "Epoch 15/100\n",
      " - 0s - loss: 2.8302 - acc: 0.0000e+00\n",
      "Epoch 16/100\n",
      " - 0s - loss: 2.6917 - acc: 0.0000e+00\n",
      "Epoch 17/100\n",
      " - 0s - loss: 2.5605 - acc: 0.0000e+00\n",
      "Epoch 18/100\n",
      " - 0s - loss: 2.4367 - acc: 0.0000e+00\n",
      "Epoch 19/100\n",
      " - 0s - loss: 2.3200 - acc: 0.0000e+00\n",
      "Epoch 20/100\n",
      " - 0s - loss: 2.2105 - acc: 0.0000e+00\n",
      "Epoch 21/100\n",
      " - 0s - loss: 2.1073 - acc: 0.0000e+00\n",
      "Epoch 22/100\n",
      " - 0s - loss: 2.0103 - acc: 0.0000e+00\n",
      "Epoch 23/100\n",
      " - 0s - loss: 1.9188 - acc: 0.0000e+00\n",
      "Epoch 24/100\n",
      " - 0s - loss: 1.8327 - acc: 0.0000e+00\n",
      "Epoch 25/100\n",
      " - 0s - loss: 1.7516 - acc: 0.0000e+00\n",
      "Epoch 26/100\n",
      " - 0s - loss: 1.6750 - acc: 0.0000e+00\n",
      "Epoch 27/100\n",
      " - 0s - loss: 1.6026 - acc: 0.0000e+00\n",
      "Epoch 28/100\n",
      " - 0s - loss: 1.5344 - acc: 0.0000e+00\n",
      "Epoch 29/100\n",
      " - 0s - loss: 1.4699 - acc: 0.0625\n",
      "Epoch 30/100\n",
      " - 0s - loss: 1.4089 - acc: 0.0625\n",
      "Epoch 31/100\n",
      " - 0s - loss: 1.3510 - acc: 0.0625\n",
      "Epoch 32/100\n",
      " - 0s - loss: 1.2956 - acc: 0.0625\n",
      "Epoch 33/100\n",
      " - 0s - loss: 1.2429 - acc: 0.0625\n",
      "Epoch 34/100\n",
      " - 0s - loss: 1.1925 - acc: 0.0625\n",
      "Epoch 35/100\n",
      " - 0s - loss: 1.1444 - acc: 0.0625\n",
      "Epoch 36/100\n",
      " - 0s - loss: 1.0984 - acc: 0.1250\n",
      "Epoch 37/100\n",
      " - 0s - loss: 1.0547 - acc: 0.1875\n",
      "Epoch 38/100\n",
      " - 0s - loss: 1.0129 - acc: 0.3125\n",
      "Epoch 39/100\n",
      " - 0s - loss: 0.9729 - acc: 0.3125\n",
      "Epoch 40/100\n",
      " - 0s - loss: 0.9345 - acc: 0.3125\n",
      "Epoch 41/100\n",
      " - 0s - loss: 0.8978 - acc: 0.5000\n",
      "Epoch 42/100\n",
      " - 0s - loss: 0.8626 - acc: 0.5625\n",
      "Epoch 43/100\n",
      " - 0s - loss: 0.8290 - acc: 0.5625\n",
      "Epoch 44/100\n",
      " - 0s - loss: 0.7966 - acc: 0.6875\n",
      "Epoch 45/100\n",
      " - 0s - loss: 0.7654 - acc: 0.8125\n",
      "Epoch 46/100\n",
      " - 0s - loss: 0.7353 - acc: 0.8750\n",
      "Epoch 47/100\n",
      " - 0s - loss: 0.7065 - acc: 0.9375\n",
      "Epoch 48/100\n",
      " - 0s - loss: 0.6787 - acc: 1.0000\n",
      "Epoch 49/100\n",
      " - 0s - loss: 0.6521 - acc: 1.0000\n",
      "Epoch 50/100\n",
      " - 0s - loss: 0.6263 - acc: 1.0000\n",
      "Epoch 51/100\n",
      " - 0s - loss: 0.6013 - acc: 1.0000\n",
      "Epoch 52/100\n",
      " - 0s - loss: 0.5773 - acc: 1.0000\n",
      "Epoch 53/100\n",
      " - 0s - loss: 0.5544 - acc: 1.0000\n",
      "Epoch 54/100\n",
      " - 0s - loss: 0.5322 - acc: 1.0000\n",
      "Epoch 55/100\n",
      " - 0s - loss: 0.5108 - acc: 1.0000\n",
      "Epoch 56/100\n",
      " - 0s - loss: 0.4903 - acc: 1.0000\n",
      "Epoch 57/100\n",
      " - 0s - loss: 0.4707 - acc: 1.0000\n",
      "Epoch 58/100\n",
      " - 0s - loss: 0.4519 - acc: 1.0000\n",
      "Epoch 59/100\n",
      " - 0s - loss: 0.4338 - acc: 1.0000\n",
      "Epoch 60/100\n",
      " - 0s - loss: 0.4164 - acc: 1.0000\n",
      "Epoch 61/100\n",
      " - 0s - loss: 0.3997 - acc: 1.0000\n",
      "Epoch 62/100\n",
      " - 0s - loss: 0.3836 - acc: 1.0000\n",
      "Epoch 63/100\n",
      " - 0s - loss: 0.3681 - acc: 1.0000\n",
      "Epoch 64/100\n",
      " - 0s - loss: 0.3533 - acc: 1.0000\n",
      "Epoch 65/100\n",
      " - 0s - loss: 0.3390 - acc: 1.0000\n",
      "Epoch 66/100\n",
      " - 0s - loss: 0.3254 - acc: 1.0000\n",
      "Epoch 67/100\n",
      " - 0s - loss: 0.3123 - acc: 1.0000\n",
      "Epoch 68/100\n",
      " - 0s - loss: 0.2998 - acc: 1.0000\n",
      "Epoch 69/100\n",
      " - 0s - loss: 0.2878 - acc: 1.0000\n",
      "Epoch 70/100\n",
      " - 0s - loss: 0.2763 - acc: 1.0000\n",
      "Epoch 71/100\n",
      " - 0s - loss: 0.2653 - acc: 1.0000\n",
      "Epoch 72/100\n",
      " - 0s - loss: 0.2547 - acc: 1.0000\n",
      "Epoch 73/100\n",
      " - 0s - loss: 0.2446 - acc: 1.0000\n",
      "Epoch 74/100\n",
      " - 0s - loss: 0.2350 - acc: 1.0000\n",
      "Epoch 75/100\n",
      " - 0s - loss: 0.2257 - acc: 1.0000\n",
      "Epoch 76/100\n",
      " - 0s - loss: 0.2169 - acc: 1.0000\n",
      "Epoch 77/100\n",
      " - 0s - loss: 0.2084 - acc: 1.0000\n",
      "Epoch 78/100\n",
      " - 0s - loss: 0.2004 - acc: 1.0000\n",
      "Epoch 79/100\n",
      " - 0s - loss: 0.1927 - acc: 1.0000\n",
      "Epoch 80/100\n",
      " - 0s - loss: 0.1853 - acc: 1.0000\n",
      "Epoch 81/100\n",
      " - 0s - loss: 0.1783 - acc: 1.0000\n",
      "Epoch 82/100\n",
      " - 0s - loss: 0.1716 - acc: 1.0000\n",
      "Epoch 83/100\n",
      " - 0s - loss: 0.1652 - acc: 1.0000\n",
      "Epoch 84/100\n",
      " - 0s - loss: 0.1591 - acc: 1.0000\n",
      "Epoch 85/100\n",
      " - 0s - loss: 0.1532 - acc: 1.0000\n",
      "Epoch 86/100\n",
      " - 0s - loss: 0.1477 - acc: 1.0000\n",
      "Epoch 87/100\n",
      " - 0s - loss: 0.1423 - acc: 1.0000\n",
      "Epoch 88/100\n",
      " - 0s - loss: 0.1372 - acc: 1.0000\n",
      "Epoch 89/100\n",
      " - 0s - loss: 0.1324 - acc: 1.0000\n",
      "Epoch 90/100\n",
      " - 0s - loss: 0.1278 - acc: 1.0000\n",
      "Epoch 91/100\n",
      " - 0s - loss: 0.1233 - acc: 1.0000\n",
      "Epoch 92/100\n",
      " - 0s - loss: 0.1191 - acc: 1.0000\n",
      "Epoch 93/100\n",
      " - 0s - loss: 0.1151 - acc: 1.0000\n",
      "Epoch 94/100\n",
      " - 0s - loss: 0.1112 - acc: 1.0000\n",
      "Epoch 95/100\n",
      " - 0s - loss: 0.1075 - acc: 1.0000\n",
      "Epoch 96/100\n",
      " - 0s - loss: 0.1040 - acc: 1.0000\n",
      "Epoch 97/100\n",
      " - 0s - loss: 0.1007 - acc: 1.0000\n",
      "Epoch 98/100\n",
      " - 0s - loss: 0.0975 - acc: 1.0000\n",
      "Epoch 99/100\n",
      " - 0s - loss: 0.0944 - acc: 1.0000\n",
      "Epoch 100/100\n",
      " - 0s - loss: 0.0915 - acc: 1.0000\n"
     ]
    },
    {
     "data": {
      "text/plain": [
       "<keras.callbacks.History at 0x13406a90>"
      ]
     },
     "execution_count": 41,
     "metadata": {},
     "output_type": "execute_result"
    }
   ],
   "source": [
    "model_corrector.fit( X_train,\n",
    "    y_train_cor,\n",
    "    epochs=100,\n",
    "    shuffle=True,\n",
    "    verbose=2\n",
    ")"
   ]
  },
  {
   "cell_type": "code",
   "execution_count": null,
   "metadata": {},
   "outputs": [],
   "source": []
  },
  {
   "cell_type": "code",
   "execution_count": 42,
   "metadata": {},
   "outputs": [
    {
     "name": "stdout",
     "output_type": "stream",
     "text": [
      "[[1. 0. 0. 0. 0. 0. 0. 0. 0. 0. 0. 0. 0. 0. 0. 0.]]\n",
      "[[8.5316990e-03 1.7896872e-02 3.1383974e-03 9.3370426e-01 3.2650901e-03\n",
      "  1.3884827e-03 1.8099438e-03 5.6397412e-03 1.4062021e-03 6.3266279e-03\n",
      "  8.8376174e-04 1.4071506e-03 2.1530050e-03 4.7008060e-03 1.4195780e-03\n",
      "  6.3284016e-03]]\n",
      "[[1.6577238e-04 9.1190600e-01 1.2485256e-03 7.4313223e-02 6.9913117e-04\n",
      "  7.2287308e-04 1.4869982e-03 1.2628357e-03 1.7105436e-03 7.6492009e-04\n",
      "  6.3333235e-04 1.4506519e-03 6.9405249e-04 1.3334395e-03 3.4089005e-04\n",
      "  1.2667577e-03]]\n"
     ]
    }
   ],
   "source": [
    "test = np.expand_dims(X_train[0], axis=0)\n",
    "# print(X_train[0])\n",
    "# print(test.shape)\n",
    "res = model_mangler.predict(test)\n",
    "res2 = model_corrector.predict(test)\n",
    "print(test)\n",
    "print(res)\n",
    "print(res2)"
   ]
  },
  {
   "cell_type": "code",
   "execution_count": 43,
   "metadata": {},
   "outputs": [
    {
     "data": {
      "image/png": "[encoded data removed]",
      "text/plain": [
       "<Figure size 576x576 with 4 Axes>"
      ]
     },
     "metadata": {},
     "output_type": "display_data"
    }
   ],
   "source": [
    "vis_matrices(test,res,res2,P)\n",
    "# plt.imshow(res.reshape(4,4))\n",
    "# plt.colorbar()\n",
    "# plt.show()"
   ]
  },
  {
   "cell_type": "code",
   "execution_count": 50,
   "metadata": {},
   "outputs": [
    {
     "data": {
      "image/png": "[encoded data removed]",
      "text/plain": [
       "<Figure size 576x576 with 4 Axes>"
      ]
     },
     "metadata": {},
     "output_type": "display_data"
    }
   ],
   "source": [
    "# Now let's use one of the random images, split it up into one pixel images and predict the mangled result\n",
    "# then, we find the transformation matrix and invert it and tadaaaaa!\n",
    "# cut = 0.4\n",
    "# Mreal = np.random.choice([0, 1], size=(nbpix,nbpix), p=[ 1-cut, cut])\n",
    "Mreal = np.array([[0, 0, 0, 0],\n",
    "                  [0, 1, 1, 0],\n",
    "                  [0, 1, 1, 0],\n",
    "                  [0, 1, 1, 0]])\n",
    "Mmang = Mreal@P\n",
    "Mstar = Mreal@Pstar\n",
    "vis_matrices(Mreal, Mmang, Mstar, P)"
   ]
  },
  {
   "cell_type": "code",
   "execution_count": 51,
   "metadata": {},
   "outputs": [
    {
     "name": "stdout",
     "output_type": "stream",
     "text": [
      "(1, 16)\n"
     ]
    },
    {
     "data": {
      "image/png": "[encoded data removed]",
      "text/plain": [
       "<Figure size 432x288 with 2 Axes>"
      ]
     },
     "metadata": {},
     "output_type": "display_data"
    }
   ],
   "source": [
    "# let's try to use directly the trained model\n",
    "test = np.expand_dims(Mreal.reshape(1,nbpix**2)[0], axis=0)\n",
    "print(test.shape)\n",
    "res = model_mangler.predict(test)\n",
    "plt.imshow(res.reshape(4,4))\n",
    "plt.colorbar()\n",
    "plt.show()"
   ]
  },
  {
   "cell_type": "code",
   "execution_count": 61,
   "metadata": {},
   "outputs": [
    {
     "data": {
      "text/plain": [
       "array([[0., 0., 0., 0., 0., 1., 0., 0., 0., 0., 0., 0., 0., 0., 0., 0.],\n",
       "       [0., 0., 0., 0., 0., 0., 1., 0., 0., 0., 0., 0., 0., 0., 0., 0.],\n",
       "       [0., 0., 0., 0., 0., 0., 0., 0., 0., 1., 0., 0., 0., 0., 0., 0.],\n",
       "       [0., 0., 0., 0., 0., 0., 0., 0., 0., 0., 1., 0., 0., 0., 0., 0.],\n",
       "       [0., 0., 0., 0., 0., 0., 0., 0., 0., 0., 0., 0., 0., 1., 0., 0.],\n",
       "       [0., 0., 0., 0., 0., 0., 0., 0., 0., 0., 0., 0., 0., 0., 1., 0.]])"
      ]
     },
     "execution_count": 61,
     "metadata": {},
     "output_type": "execute_result"
    }
   ],
   "source": [
    "# let's split the Mreal matrix into n matrices of one pixel\n",
    "def add_one(arr,index):\n",
    "    arr[0,index] = 1\n",
    "    return arr\n",
    "# find the indexes of the ones values in the matrix\n",
    "idx_arr = np.where(Mreal.reshape(1,nbpix**2)[0]==1)[0]\n",
    "idx_lst = [idx_arr.item(ii) for ii in range(0,len(idx_arr))] # transform from an array to a list\n",
    "\n",
    "temp = np.zeros((1,nbpix**2))\n",
    "Mreal_split = np.zeros((len(idx_lst), nbpix**2))\n",
    "Mtest = np.zeros((nbpix,nbpix))\n",
    "for ii in range(0,len(idx_lst)):\n",
    "    Mreal_split[ii,idx_lst[ii]] = 1    \n",
    "    Mtest = Mtest + Mreal_split[ii,:].reshape(nbpix,nbpix)\n",
    "Mtest\n",
    "Mreal_split"
   ]
  },
  {
   "cell_type": "code",
   "execution_count": 62,
   "metadata": {},
   "outputs": [
    {
     "data": {
      "image/png": "[encoded data removed]",
      "text/plain": [
       "<Figure size 432x288 with 2 Axes>"
      ]
     },
     "metadata": {},
     "output_type": "display_data"
    },
    {
     "data": {
      "text/plain": [
       "array([[0., 0., 0., 0.],\n",
       "       [1., 1., 0., 0.],\n",
       "       [1., 1., 0., 0.],\n",
       "       [1., 1., 0., 0.]])"
      ]
     },
     "execution_count": 62,
     "metadata": {},
     "output_type": "execute_result"
    }
   ],
   "source": [
    "# then lets use the trained models to predict the mangled response and the corrected input response\n",
    "# of all of these one pixel image\n",
    "# and we rebuild the full image by adding up all the result matrixes\n",
    "res = np.zeros((len(idx_lst), nbpix**2))\n",
    "Mres = np.zeros((nbpix,nbpix))\n",
    "Mcor = np.zeros((nbpix,nbpix))\n",
    "for ii in range(0,len(idx_lst)):\n",
    "    res[ii,:] = model_mangler.predict(np.expand_dims(Mreal_split[ii], axis=0))\n",
    "    Mres = Mres + res[ii,:].reshape(nbpix,nbpix)\n",
    "    Mcor = Mcor + Mcor[ii,:].reshape(nbpix,nbpix)\n",
    "# Mres\n",
    "plt.imshow(Mres)\n",
    "plt.colorbar()\n",
    "plt.show()\n",
    "# res.round()\n",
    "# Mres.round()"
   ]
  },
  {
   "cell_type": "code",
   "execution_count": 63,
   "metadata": {},
   "outputs": [
    {
     "name": "stdout",
     "output_type": "stream",
     "text": [
      "0.0\n"
     ]
    },
    {
     "data": {
      "text/plain": [
       "array([[0.        , 0.        , 0.        , 0.        ],\n",
       "       [0.47678987, 0.47612997, 0.01551458, 0.01487812],\n",
       "       [0.47678987, 0.47612997, 0.01551458, 0.01487812],\n",
       "       [0.        , 0.        , 0.        , 0.        ]])"
      ]
     },
     "execution_count": 63,
     "metadata": {},
     "output_type": "execute_result"
    }
   ],
   "source": [
    "# Now that we have the Mreal and the Mres\n",
    "# let's calculate the estimated transformation matrix\n",
    "print(np.linalg.det(Mreal))\n",
    "Pest = np.linalg.pinv(Mreal,rcond=1e-15)@Mres\n",
    "Pest"
   ]
  },
  {
   "cell_type": "code",
   "execution_count": 64,
   "metadata": {},
   "outputs": [
    {
     "data": {
      "text/plain": [
       "array([[0.        , 0.5245324 , 0.5245324 , 0.        ],\n",
       "       [0.        , 0.52380642, 0.52380642, 0.        ],\n",
       "       [0.        , 0.01706811, 0.01706811, 0.        ],\n",
       "       [0.        , 0.01636792, 0.01636792, 0.        ]])"
      ]
     },
     "execution_count": 64,
     "metadata": {},
     "output_type": "execute_result"
    }
   ],
   "source": [
    "Pstar_est = np.linalg.pinv(Pest)\n",
    "Pstar_est"
   ]
  },
  {
   "cell_type": "code",
   "execution_count": 65,
   "metadata": {},
   "outputs": [
    {
     "data": {
      "image/png": "[encoded data removed]",
      "text/plain": [
       "<Figure size 576x576 with 4 Axes>"
      ]
     },
     "metadata": {},
     "output_type": "display_data"
    }
   ],
   "source": [
    "Mmang2 = Mreal@Pest\n",
    "Mstar2 = Mreal@Pstar_est\n",
    "vis_matrices(Mreal, Mmang2, Mstar2, Pest)"
   ]
  },
  {
   "cell_type": "code",
   "execution_count": 15,
   "metadata": {},
   "outputs": [],
   "source": [
    "\n"
   ]
  },
  {
   "cell_type": "code",
   "execution_count": 18,
   "metadata": {},
   "outputs": [
    {
     "data": {
      "text/plain": [
       "array([[[1., 0., 0., ..., 0., 0., 0.],\n",
       "        [1., 0., 0., ..., 0., 0., 0.],\n",
       "        [1., 0., 0., ..., 0., 0., 0.],\n",
       "        ...,\n",
       "        [1., 0., 0., ..., 0., 0., 0.],\n",
       "        [1., 0., 0., ..., 0., 0., 0.],\n",
       "        [1., 0., 0., ..., 0., 0., 0.]],\n",
       "\n",
       "       [[0., 1., 0., ..., 0., 0., 0.],\n",
       "        [1., 0., 0., ..., 0., 0., 0.],\n",
       "        [1., 0., 0., ..., 0., 0., 0.],\n",
       "        ...,\n",
       "        [1., 0., 0., ..., 0., 0., 0.],\n",
       "        [1., 0., 0., ..., 0., 0., 0.],\n",
       "        [1., 0., 0., ..., 0., 0., 0.]],\n",
       "\n",
       "       [[1., 0., 0., ..., 0., 0., 0.],\n",
       "        [0., 1., 0., ..., 0., 0., 0.],\n",
       "        [1., 0., 0., ..., 0., 0., 0.],\n",
       "        ...,\n",
       "        [1., 0., 0., ..., 0., 0., 0.],\n",
       "        [1., 0., 0., ..., 0., 0., 0.],\n",
       "        [1., 0., 0., ..., 0., 0., 0.]],\n",
       "\n",
       "       ...,\n",
       "\n",
       "       [[1., 0., 0., ..., 0., 0., 0.],\n",
       "        [1., 0., 0., ..., 0., 0., 0.],\n",
       "        [1., 0., 0., ..., 0., 0., 0.],\n",
       "        ...,\n",
       "        [1., 0., 0., ..., 0., 0., 0.],\n",
       "        [1., 0., 0., ..., 0., 0., 0.],\n",
       "        [1., 0., 0., ..., 0., 0., 0.]],\n",
       "\n",
       "       [[1., 0., 0., ..., 0., 0., 0.],\n",
       "        [1., 0., 0., ..., 0., 0., 0.],\n",
       "        [1., 0., 0., ..., 0., 0., 0.],\n",
       "        ...,\n",
       "        [0., 1., 0., ..., 0., 0., 0.],\n",
       "        [1., 0., 0., ..., 0., 0., 0.],\n",
       "        [1., 0., 0., ..., 0., 0., 0.]],\n",
       "\n",
       "       [[1., 0., 0., ..., 0., 0., 0.],\n",
       "        [1., 0., 0., ..., 0., 0., 0.],\n",
       "        [1., 0., 0., ..., 0., 0., 0.],\n",
       "        ...,\n",
       "        [1., 0., 0., ..., 0., 0., 0.],\n",
       "        [0., 1., 0., ..., 0., 0., 0.],\n",
       "        [1., 0., 0., ..., 0., 0., 0.]]], dtype=float32)"
      ]
     },
     "execution_count": 18,
     "metadata": {},
     "output_type": "execute_result"
    }
   ],
   "source": []
  },
  {
   "cell_type": "code",
   "execution_count": null,
   "metadata": {},
   "outputs": [],
   "source": []
  },
  {
   "cell_type": "code",
   "execution_count": null,
   "metadata": {},
   "outputs": [],
   "source": []
  },
  {
   "cell_type": "code",
   "execution_count": null,
   "metadata": {},
   "outputs": [],
   "source": []
  },
  {
   "cell_type": "code",
   "execution_count": null,
   "metadata": {},
   "outputs": [],
   "source": []
  },
  {
   "cell_type": "code",
   "execution_count": null,
   "metadata": {},
   "outputs": [],
   "source": []
  },
  {
   "cell_type": "code",
   "execution_count": null,
   "metadata": {},
   "outputs": [],
   "source": []
  },
  {
   "cell_type": "code",
   "execution_count": null,
   "metadata": {},
   "outputs": [],
   "source": []
  },
  {
   "cell_type": "code",
   "execution_count": null,
   "metadata": {},
   "outputs": [],
   "source": [
    "train_idx = np.sort(random.sample(range(1, nb_sample), round(0.7*nb_sample)))\n",
    "\n",
    "X_train = Mreal_tab[train_idx]\n",
    "X_test = np.delete(Mreal_tab, train_idx, 0)\n",
    "\n",
    "y_train = Mstar_tab[train_idx]\n",
    "y_test =np.delete(Mstar_tab, train_idx, 0)\n",
    "\n",
    "\n",
    "print(X_train.shape)\n",
    "print(X_test.shape)\n",
    "\n",
    "# df2 = data.drop_duplicates()\n",
    "# df2.count()\n",
    "n = 30\n",
    "vis_matrices(X_train[n,:].reshape(nbpix,nbpix), X_train[n,:].reshape(nbpix,nbpix)@P, y_train[n,:].reshape(nbpix,nbpix), P)"
   ]
  },
  {
   "cell_type": "markdown",
   "metadata": {},
   "source": [
    "- an artificial feed-forward-type multi-layer neural network configured, e.g., using the Error-Backpropagation algorithm; \n",
    "- a Hopfield-type Attractor neural network configured with, e.g., the Projection Rule or the Pseudoinverse algorithm; \n",
    "- and/or a recurrent neural network trained, e.g., with algo rithms such as Real-Time Recurrent Learning algorithm and the Time-Dependent Recurrent Backpropagation to determine a vision solution. "
   ]
  },
  {
   "cell_type": "code",
   "execution_count": null,
   "metadata": {},
   "outputs": [],
   "source": []
  },
  {
   "cell_type": "code",
   "execution_count": null,
   "metadata": {},
   "outputs": [],
   "source": [
    "# df_train = data.sample(0.8)\n",
    "# df_test = data.sample(2000)\n",
    "model = Sequential()"
   ]
  },
  {
   "cell_type": "code",
   "execution_count": null,
   "metadata": {},
   "outputs": [],
   "source": [
    "# first hiden layer\n"
   ]
  },
  {
   "cell_type": "code",
   "execution_count": null,
   "metadata": {},
   "outputs": [],
   "source": []
  }
 ],
 "metadata": {
  "kernelspec": {
   "display_name": "Python 3",
   "language": "python",
   "name": "python3"
  },
  "language_info": {
   "codemirror_mode": {
    "name": "ipython",
    "version": 3
   },
   "file_extension": ".py",
   "mimetype": "text/x-python",
   "name": "python",
   "nbconvert_exporter": "python",
   "pygments_lexer": "ipython3",
   "version": "3.6.5"
  }
 },
 "nbformat": 4,
 "nbformat_minor": 2
}
