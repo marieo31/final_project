{
 "cells": [
  {
   "cell_type": "markdown",
   "metadata": {},
   "source": [
    "# Training a visual prosthesis using Convolutional Neural Network"
   ]
  },
  {
   "cell_type": "markdown",
   "metadata": {},
   "source": [
    "## 1/ Context\n",
    "Retinal implants are ....\n",
    "\n",
    "import some images"
   ]
  },
  {
   "cell_type": "code",
   "execution_count": 1,
   "metadata": {
    "code_folding": [],
    "hide_input": false
   },
   "outputs": [
    {
     "name": "stderr",
     "output_type": "stream",
     "text": [
      "C:\\Users\\MariO\\Anaconda3\\lib\\site-packages\\h5py\\__init__.py:36: FutureWarning: Conversion of the second argument of issubdtype from `float` to `np.floating` is deprecated. In future, it will be treated as `np.float64 == np.dtype(float).type`.\n",
      "  from ._conv import register_converters as _register_converters\n",
      "Using TensorFlow backend.\n"
     ]
    }
   ],
   "source": [
    "# Loading libraries\n",
    "import numpy as np\n",
    "import pandas as pd\n",
    "import matplotlib.pyplot as plt\n",
    "import matplotlib as mpl\n",
    "from sklearn import tree\n",
    "import os\n",
    "import random\n",
    "\n",
    "mpl.rc('image', cmap='gray_r')\n",
    "from keras.models import Sequential\n",
    "from keras.utils import to_categorical\n",
    "from keras.layers import Dense\n",
    "from keras.datasets import mnist"
   ]
  },
  {
   "cell_type": "markdown",
   "metadata": {},
   "source": [
    "## 2/ The first-test transformation: a one row translation to the left\n",
    "For the first try, we use a translation transformation based on a 4 by 4 pixels image in black and white.\n",
    "We can easily build the transformation matrices that will generate the \"mangled\" image based on a real input, as well as the transformation that will generate the corrected input.\n",
    "\n",
    "$ P = \\begin{bmatrix} 0 & 0 & 0 &1\\\\\n",
    "                      1 & 0 & 0 & 0\\\\\n",
    "                      0 & 1 & 0 & 0\\\\\n",
    "                      0 & 0 & 1 & 0\n",
    "        \\end{bmatrix} $ and \n",
    "$ P^{\\star} = \\begin{bmatrix} 0 & 1 & 0 &0\\\\\n",
    "                      0 & 0 & 1 & 0\\\\\n",
    "                      0 & 0 & 0 & 1\\\\\n",
    "                      1 & 0 & 0 & 0\n",
    "        \\end{bmatrix} $\n",
    "        \n",
    "$M_{mangled} = M_{real}P $ and  $M^{\\star} = M_{real}P^{\\star} $"
   ]
  },
  {
   "cell_type": "code",
   "execution_count": 2,
   "metadata": {
    "code_folding": [],
    "hide_input": false
   },
   "outputs": [],
   "source": [
    "# Transformation matrices\n",
    "P = np.array([[0, 0, 0, 1],\n",
    "              [1, 0, 0, 0],\n",
    "              [0, 1, 0, 0],\n",
    "              [0, 0, 1, 0]])\n",
    "Pstar = np.array([[0, 1, 0, 0],\n",
    "                  [0, 0, 1, 0],\n",
    "                  [0, 0, 0, 1],\n",
    "                  [1, 0, 0, 0]])"
   ]
  },
  {
   "cell_type": "code",
   "execution_count": 3,
   "metadata": {
    "code_folding": []
   },
   "outputs": [],
   "source": [
    "# real image\n",
    "Mreal = np.array([[0, 0, 0, 0],\n",
    "                  [0, 1, 1, 0],\n",
    "                  [0, 1, 1, 0],\n",
    "                  [0, 1, 1, 0]])\n",
    "Mreal = np.ones((4,4)) - Mreal\n",
    "# distorted image\n",
    "Mmang = Mreal@P\n",
    "# corrected input\n",
    "Mstar = Mreal@Pstar\n"
   ]
  },
  {
   "cell_type": "code",
   "execution_count": 4,
   "metadata": {
    "code_folding": [],
    "hide_input": false,
    "scrolled": false
   },
   "outputs": [
    {
     "data": {
      "image/png": "[encoded data removed]",
      "text/plain": [
       "<Figure size 576x576 with 4 Axes>"
      ]
     },
     "metadata": {},
     "output_type": "display_data"
    }
   ],
   "source": [
    "# plt.figure(1)\n",
    "def remove_ticks():\n",
    "    plt.tick_params(\n",
    "    axis='x',          # changes apply to the x-axis\n",
    "    which='both',      # both major and minor ticks are affected\n",
    "    bottom=False,      # ticks along the bottom edge are off\n",
    "    top=False,         # ticks along the top edge are off\n",
    "    labelbottom=False) # labels along the bottom edge are off\n",
    "    plt.tick_params(\n",
    "    axis='y',          # changes apply to the x-axis\n",
    "    which='both',      # both major and minor ticks are affected\n",
    "    bottom=False,      # ticks along the bottom edge are off\n",
    "    top=False,         # ticks along the top edge are off\n",
    "    left=False,\n",
    "    labelleft=False,\n",
    "    labelbottom=False) # labels along the bottom edge are off    \n",
    "    return\n",
    "\n",
    "def vis_matrices(Mr, Mm, Mst, MstM):\n",
    "#     print(Mr.shape[0])\n",
    "    if Mr.shape[0]==1:\n",
    "        Mr = Mr.reshape(int(np.sqrt(Mr.shape[1])), int(np.sqrt(Mr.shape[1])))\n",
    "        Mm = Mm.reshape(int(np.sqrt(Mm.shape[1])), int(np.sqrt(Mm.shape[1])))\n",
    "        Mst = Mst.reshape(int(np.sqrt(Mst.shape[1])), int(np.sqrt(Mst.shape[1])))\n",
    "        MstM = MstM.reshape(int(np.sqrt(Mst.shape[1])), int(np.sqrt(Mst.shape[1])))\n",
    "\n",
    "    \n",
    "    fig, (ax1,ax2) = plt.subplots(nrows=2,ncols=2) #, squeeze=True, sharey=True)\n",
    "    fig.set_size_inches(8,8)\n",
    "\n",
    "    plt.sca(ax1[0])\n",
    "    plt.imshow(Mr)\n",
    "    plt.title(\"Real image\")\n",
    "    remove_ticks()\n",
    "\n",
    "    plt.sca(ax2[0])\n",
    "    plt.imshow(Mm)\n",
    "    plt.title(\"Distorted image\")\n",
    "    remove_ticks()\n",
    "\n",
    "    plt.sca(ax1[1])\n",
    "    plt.imshow(Mst)\n",
    "    plt.title(\"Corrected input\")\n",
    "    remove_ticks()\n",
    "\n",
    "    plt.sca(ax2[1])\n",
    "    plt.imshow(MstM)\n",
    "    plt.title(\"Corrected visualization\")\n",
    "    remove_ticks()\n",
    "    \n",
    "    \n",
    "vis_matrices(Mreal, Mmang, Mstar, Mstar@P)"
   ]
  },
  {
   "cell_type": "markdown",
   "metadata": {},
   "source": [
    "## 3/ Machine-Learning approach\n",
    "We are using the Convolutional Neural Network applied to the MNIST (hand written number recognition).\n",
    "This is a classification algorithm, meaning we cannot get an image as an output.\n",
    "A turn-around is to train the model with N images of one pixel, the output is then the position of this pixel in the mangled image.\n",
    "\n",
    "To use the trained model and predict mangled images or corrected input, we will this simply split up the input image into N images of one pixels and rebuild the result."
   ]
  },
  {
   "cell_type": "code",
   "execution_count": 5,
   "metadata": {},
   "outputs": [],
   "source": [
    "nbpix = 4"
   ]
  },
  {
   "cell_type": "markdown",
   "metadata": {},
   "source": [
    "### 3.1/ Generating the training data\n",
    "We create n x n images of one pixel and use the known $P$ and $P^{\\star}$ matrices to generate the corresponding $M_{mangled}$ and $M_{star}$"
   ]
  },
  {
   "cell_type": "code",
   "execution_count": 10,
   "metadata": {},
   "outputs": [],
   "source": [
    "def create_training_data(nbpix,nb_lvl_gray=1):\n",
    "    \"\"\"\n",
    "    Build the set of one pixel matrices and apply the transformations\n",
    "    \"\"\"\n",
    "    # List of indexes where to put a black pixel\n",
    "    idx = range(0,nbpix**2,1)\n",
    "\n",
    "    # Initialize empty arrays \n",
    "    Mreal_tab = np.zeros((len(idx),nbpix*nbpix))\n",
    "    Mmang_tab = np.zeros((len(idx),nbpix*nbpix))\n",
    "    Mstar_tab = np.zeros((len(idx),nbpix*nbpix))\n",
    "    for ii in idx:\n",
    "        # Fill the indexed pixel with a one\n",
    "        Mreal_tab[ii,ii] = 1\n",
    "        # Use the transformation matrices to generate Mmang and Mstar\n",
    "        Mmang_tab[ii,:] = (Mreal_tab[ii,:].reshape(nbpix,nbpix)@P).reshape(1,nbpix**2)\n",
    "        Mstar_tab[ii,:] = (Mreal_tab[ii,:].reshape(nbpix,nbpix)@Pstar).reshape(1,nbpix**2)\n",
    "    return (Mreal_tab, Mmang_tab, Mstar_tab)\n",
    "\n",
    "(Mreal_tab, Mmang_tab, Mstar_tab) = create_training_data(nbpix,1)\n",
    "idx = range(0,nbpix**2,1)"
   ]
  },
  {
   "cell_type": "markdown",
   "metadata": {},
   "source": [
    "Let's visualise one of the training image"
   ]
  },
  {
   "cell_type": "code",
   "execution_count": 11,
   "metadata": {
    "code_folding": []
   },
   "outputs": [
    {
     "data": {
      "image/png": "[encoded data removed]",
      "text/plain": [
       "<Figure size 576x576 with 4 Axes>"
      ]
     },
     "metadata": {},
     "output_type": "display_data"
    }
   ],
   "source": [
    "n = 5\n",
    "vis_matrices(Mreal_tab[n,:].reshape(nbpix,nbpix),\n",
    "             Mmang_tab[n,:].reshape(nbpix,nbpix), \n",
    "             Mstar_tab[n,:].reshape(nbpix,nbpix), \n",
    "             Mstar_tab[n,:].reshape(nbpix,nbpix)@P)    "
   ]
  },
  {
   "cell_type": "code",
   "execution_count": 12,
   "metadata": {
    "code_folding": []
   },
   "outputs": [],
   "source": [
    "# the training input are the matrices of the real images with one pixel\n",
    "X_train = Mreal_tab"
   ]
  },
  {
   "cell_type": "code",
   "execution_count": 13,
   "metadata": {
    "code_folding": []
   },
   "outputs": [],
   "source": [
    "# the training output will be the category corresponding to the position of the pixel in the mangled image\n",
    "y_train = [np.where(Mmang_tab[ii,:]==1)[0].item(0) for ii in idx]\n",
    "y_train = to_categorical(y_train, nbpix**2)\n",
    "\n",
    "# or the position of the pixel in the corrected image\n",
    "y_train_cor = [np.where(Mstar_tab[ii,:]==1)[0].item(0) for ii in idx]\n",
    "y_train_cor = to_categorical(y_train_cor, nbpix**2)"
   ]
  },
  {
   "cell_type": "markdown",
   "metadata": {},
   "source": [
    "### 3.2/ Create and train the models\n",
    "We are going to create one model that "
   ]
  },
  {
   "cell_type": "code",
   "execution_count": 14,
   "metadata": {
    "code_folding": []
   },
   "outputs": [],
   "source": [
    "# creating the models\n",
    "model_mangler = Sequential()\n",
    "model_mangler.add(Dense(100, activation='relu', input_dim=nbpix**2))\n",
    "model_mangler.add(Dense(100, activation='relu'))\n",
    "model_mangler.add(Dense(nbpix**2, activation='softmax'))\n",
    "# Inversion strategy doesnt work very well...\n",
    "# we are going to try using another model, trained on the corrected input.\n",
    "model_corrector = Sequential()\n",
    "model_corrector.add(Dense(100, activation='relu', input_dim=nbpix**2))\n",
    "model_corrector.add(Dense(100, activation='relu'))\n",
    "model_corrector.add(Dense(nbpix**2, activation='softmax'))"
   ]
  },
  {
   "cell_type": "code",
   "execution_count": 15,
   "metadata": {
    "code_folding": []
   },
   "outputs": [],
   "source": [
    "# Compile the models\n",
    "model_mangler.compile(loss=\"categorical_crossentropy\",\n",
    "              optimizer=\"adam\", metrics=['accuracy'])\n",
    "model_corrector.compile(loss=\"categorical_crossentropy\",\n",
    "              optimizer=\"adam\", metrics=['accuracy'])"
   ]
  },
  {
   "cell_type": "code",
   "execution_count": 16,
   "metadata": {},
   "outputs": [
    {
     "name": "stdout",
     "output_type": "stream",
     "text": [
      "Model 'Mangler'\n",
      "_________________________________________________________________\n",
      "Layer (type)                 Output Shape              Param #   \n",
      "=================================================================\n",
      "dense_1 (Dense)              (None, 100)               1700      \n",
      "_________________________________________________________________\n",
      "dense_2 (Dense)              (None, 100)               10100     \n",
      "_________________________________________________________________\n",
      "dense_3 (Dense)              (None, 16)                1616      \n",
      "=================================================================\n",
      "Total params: 13,416\n",
      "Trainable params: 13,416\n",
      "Non-trainable params: 0\n",
      "_________________________________________________________________\n",
      "None\n",
      "Model for corrected input\n",
      "_________________________________________________________________\n",
      "Layer (type)                 Output Shape              Param #   \n",
      "=================================================================\n",
      "dense_4 (Dense)              (None, 100)               1700      \n",
      "_________________________________________________________________\n",
      "dense_5 (Dense)              (None, 100)               10100     \n",
      "_________________________________________________________________\n",
      "dense_6 (Dense)              (None, 16)                1616      \n",
      "=================================================================\n",
      "Total params: 13,416\n",
      "Trainable params: 13,416\n",
      "Non-trainable params: 0\n",
      "_________________________________________________________________\n",
      "None\n"
     ]
    }
   ],
   "source": [
    "print(\"Model 'Mangler'\")\n",
    "print(model_mangler.summary())\n",
    "print(\"Model for corrected input\")\n",
    "print(model_corrector.summary())"
   ]
  },
  {
   "cell_type": "code",
   "execution_count": 17,
   "metadata": {
    "hide_input": false
   },
   "outputs": [
    {
     "name": "stdout",
     "output_type": "stream",
     "text": [
      "Epoch 1/100\n",
      " - 0s - loss: 2.7715 - acc: 0.0625\n",
      "Epoch 2/100\n",
      " - 0s - loss: 2.7553 - acc: 0.0625\n",
      "Epoch 3/100\n",
      " - 0s - loss: 2.7341 - acc: 0.0625\n",
      "Epoch 4/100\n",
      " - 0s - loss: 2.7136 - acc: 0.2500\n",
      "Epoch 5/100\n",
      " - 0s - loss: 2.6935 - acc: 0.3125\n",
      "Epoch 6/100\n",
      " - 0s - loss: 2.6737 - acc: 0.3125\n",
      "Epoch 7/100\n",
      " - 0s - loss: 2.6541 - acc: 0.3750\n",
      "Epoch 8/100\n",
      " - 0s - loss: 2.6347 - acc: 0.5000\n",
      "Epoch 9/100\n",
      " - 0s - loss: 2.6154 - acc: 0.6250\n",
      "Epoch 10/100\n",
      " - 0s - loss: 2.5959 - acc: 0.6250\n",
      "Epoch 11/100\n",
      " - 0s - loss: 2.5764 - acc: 0.7500\n",
      "Epoch 12/100\n",
      " - 0s - loss: 2.5566 - acc: 0.8125\n",
      "Epoch 13/100\n",
      " - 0s - loss: 2.5365 - acc: 0.8750\n",
      "Epoch 14/100\n",
      " - 0s - loss: 2.5160 - acc: 0.8750\n",
      "Epoch 15/100\n",
      " - 0s - loss: 2.4953 - acc: 0.9375\n",
      "Epoch 16/100\n",
      " - 0s - loss: 2.4743 - acc: 0.9375\n",
      "Epoch 17/100\n",
      " - 0s - loss: 2.4527 - acc: 0.9375\n",
      "Epoch 18/100\n",
      " - 0s - loss: 2.4306 - acc: 0.9375\n",
      "Epoch 19/100\n",
      " - 0s - loss: 2.4077 - acc: 0.9375\n",
      "Epoch 20/100\n",
      " - 0s - loss: 2.3845 - acc: 0.9375\n",
      "Epoch 21/100\n",
      " - 0s - loss: 2.3607 - acc: 0.9375\n",
      "Epoch 22/100\n",
      " - 0s - loss: 2.3365 - acc: 1.0000\n",
      "Epoch 23/100\n",
      " - 0s - loss: 2.3117 - acc: 1.0000\n",
      "Epoch 24/100\n",
      " - 0s - loss: 2.2862 - acc: 1.0000\n",
      "Epoch 25/100\n",
      " - 0s - loss: 2.2600 - acc: 1.0000\n",
      "Epoch 26/100\n",
      " - 0s - loss: 2.2332 - acc: 1.0000\n",
      "Epoch 27/100\n",
      " - 0s - loss: 2.2057 - acc: 1.0000\n",
      "Epoch 28/100\n",
      " - 0s - loss: 2.1775 - acc: 1.0000\n",
      "Epoch 29/100\n",
      " - 0s - loss: 2.1484 - acc: 1.0000\n",
      "Epoch 30/100\n",
      " - 0s - loss: 2.1187 - acc: 1.0000\n",
      "Epoch 31/100\n",
      " - 0s - loss: 2.0882 - acc: 1.0000\n",
      "Epoch 32/100\n",
      " - 0s - loss: 2.0570 - acc: 1.0000\n",
      "Epoch 33/100\n",
      " - 0s - loss: 2.0245 - acc: 1.0000\n",
      "Epoch 34/100\n",
      " - 0s - loss: 1.9917 - acc: 1.0000\n",
      "Epoch 35/100\n",
      " - 0s - loss: 1.9579 - acc: 1.0000\n",
      "Epoch 36/100\n",
      " - 0s - loss: 1.9232 - acc: 1.0000\n",
      "Epoch 37/100\n",
      " - 0s - loss: 1.8878 - acc: 1.0000\n",
      "Epoch 38/100\n",
      " - 0s - loss: 1.8516 - acc: 1.0000\n",
      "Epoch 39/100\n",
      " - 0s - loss: 1.8147 - acc: 1.0000\n",
      "Epoch 40/100\n",
      " - 0s - loss: 1.7769 - acc: 1.0000\n",
      "Epoch 41/100\n",
      " - 0s - loss: 1.7384 - acc: 1.0000\n",
      "Epoch 42/100\n",
      " - 0s - loss: 1.6988 - acc: 1.0000\n",
      "Epoch 43/100\n",
      " - 0s - loss: 1.6589 - acc: 1.0000\n",
      "Epoch 44/100\n",
      " - 0s - loss: 1.6183 - acc: 1.0000\n",
      "Epoch 45/100\n",
      " - 0s - loss: 1.5768 - acc: 1.0000\n",
      "Epoch 46/100\n",
      " - 0s - loss: 1.5350 - acc: 1.0000\n",
      "Epoch 47/100\n",
      " - 0s - loss: 1.4926 - acc: 1.0000\n",
      "Epoch 48/100\n",
      " - 0s - loss: 1.4496 - acc: 1.0000\n",
      "Epoch 49/100\n",
      " - 0s - loss: 1.4062 - acc: 1.0000\n",
      "Epoch 50/100\n",
      " - 0s - loss: 1.3624 - acc: 1.0000\n",
      "Epoch 51/100\n",
      " - 0s - loss: 1.3182 - acc: 1.0000\n",
      "Epoch 52/100\n",
      " - 0s - loss: 1.2737 - acc: 1.0000\n",
      "Epoch 53/100\n",
      " - 0s - loss: 1.2289 - acc: 1.0000\n",
      "Epoch 54/100\n",
      " - 0s - loss: 1.1839 - acc: 1.0000\n",
      "Epoch 55/100\n",
      " - 0s - loss: 1.1389 - acc: 1.0000\n",
      "Epoch 56/100\n",
      " - 0s - loss: 1.0940 - acc: 1.0000\n",
      "Epoch 57/100\n",
      " - 0s - loss: 1.0493 - acc: 1.0000\n",
      "Epoch 58/100\n",
      " - 0s - loss: 1.0050 - acc: 1.0000\n",
      "Epoch 59/100\n",
      " - 0s - loss: 0.9609 - acc: 1.0000\n",
      "Epoch 60/100\n",
      " - 0s - loss: 0.9172 - acc: 1.0000\n",
      "Epoch 61/100\n",
      " - 0s - loss: 0.8741 - acc: 1.0000\n",
      "Epoch 62/100\n",
      " - 0s - loss: 0.8316 - acc: 1.0000\n",
      "Epoch 63/100\n",
      " - 0s - loss: 0.7899 - acc: 1.0000\n",
      "Epoch 64/100\n",
      " - 0s - loss: 0.7490 - acc: 1.0000\n",
      "Epoch 65/100\n",
      " - 0s - loss: 0.7091 - acc: 1.0000\n",
      "Epoch 66/100\n",
      " - 0s - loss: 0.6703 - acc: 1.0000\n",
      "Epoch 67/100\n",
      " - 0s - loss: 0.6326 - acc: 1.0000\n",
      "Epoch 68/100\n",
      " - 0s - loss: 0.5962 - acc: 1.0000\n",
      "Epoch 69/100\n",
      " - 0s - loss: 0.5611 - acc: 1.0000\n",
      "Epoch 70/100\n",
      " - 0s - loss: 0.5273 - acc: 1.0000\n",
      "Epoch 71/100\n",
      " - 0s - loss: 0.4950 - acc: 1.0000\n",
      "Epoch 72/100\n",
      " - 0s - loss: 0.4641 - acc: 1.0000\n",
      "Epoch 73/100\n",
      " - 0s - loss: 0.4348 - acc: 1.0000\n",
      "Epoch 74/100\n",
      " - 0s - loss: 0.4070 - acc: 1.0000\n",
      "Epoch 75/100\n",
      " - 0s - loss: 0.3805 - acc: 1.0000\n",
      "Epoch 76/100\n",
      " - 0s - loss: 0.3557 - acc: 1.0000\n",
      "Epoch 77/100\n",
      " - 0s - loss: 0.3323 - acc: 1.0000\n",
      "Epoch 78/100\n",
      " - 0s - loss: 0.3105 - acc: 1.0000\n",
      "Epoch 79/100\n",
      " - 0s - loss: 0.2900 - acc: 1.0000\n",
      "Epoch 80/100\n",
      " - 0s - loss: 0.2708 - acc: 1.0000\n",
      "Epoch 81/100\n",
      " - 0s - loss: 0.2530 - acc: 1.0000\n",
      "Epoch 82/100\n",
      " - 0s - loss: 0.2364 - acc: 1.0000\n",
      "Epoch 83/100\n",
      " - 0s - loss: 0.2210 - acc: 1.0000\n",
      "Epoch 84/100\n",
      " - 0s - loss: 0.2067 - acc: 1.0000\n",
      "Epoch 85/100\n",
      " - 0s - loss: 0.1935 - acc: 1.0000\n",
      "Epoch 86/100\n",
      " - 0s - loss: 0.1813 - acc: 1.0000\n",
      "Epoch 87/100\n",
      " - 0s - loss: 0.1700 - acc: 1.0000\n",
      "Epoch 88/100\n",
      " - 0s - loss: 0.1595 - acc: 1.0000\n",
      "Epoch 89/100\n",
      " - 0s - loss: 0.1499 - acc: 1.0000\n",
      "Epoch 90/100\n",
      " - 0s - loss: 0.1410 - acc: 1.0000\n",
      "Epoch 91/100\n",
      " - 0s - loss: 0.1328 - acc: 1.0000\n",
      "Epoch 92/100\n",
      " - 0s - loss: 0.1252 - acc: 1.0000\n",
      "Epoch 93/100\n",
      " - 0s - loss: 0.1182 - acc: 1.0000\n",
      "Epoch 94/100\n",
      " - 0s - loss: 0.1117 - acc: 1.0000\n",
      "Epoch 95/100\n",
      " - 0s - loss: 0.1058 - acc: 1.0000\n",
      "Epoch 96/100\n",
      " - 0s - loss: 0.1003 - acc: 1.0000\n",
      "Epoch 97/100\n",
      " - 0s - loss: 0.0952 - acc: 1.0000\n",
      "Epoch 98/100\n",
      " - 0s - loss: 0.0904 - acc: 1.0000\n",
      "Epoch 99/100\n",
      " - 0s - loss: 0.0861 - acc: 1.0000\n",
      "Epoch 100/100\n",
      " - 0s - loss: 0.0820 - acc: 1.0000\n"
     ]
    },
    {
     "data": {
      "text/plain": [
       "<keras.callbacks.History at 0xf9852e8>"
      ]
     },
     "execution_count": 17,
     "metadata": {},
     "output_type": "execute_result"
    }
   ],
   "source": [
    "# train the model \"mangler\"\n",
    "model_mangler.fit( X_train,\n",
    "    y_train,\n",
    "    epochs=100,\n",
    "    shuffle=True,\n",
    "    verbose=2\n",
    ")"
   ]
  },
  {
   "cell_type": "code",
   "execution_count": 18,
   "metadata": {},
   "outputs": [
    {
     "name": "stdout",
     "output_type": "stream",
     "text": [
      "Epoch 1/100\n",
      " - 0s - loss: 2.7842 - acc: 0.0000e+00\n",
      "Epoch 2/100\n",
      " - 0s - loss: 2.7609 - acc: 0.0625\n",
      "Epoch 3/100\n",
      " - 0s - loss: 2.7381 - acc: 0.1250\n",
      "Epoch 4/100\n",
      " - 0s - loss: 2.7158 - acc: 0.1250\n",
      "Epoch 5/100\n",
      " - 0s - loss: 2.6937 - acc: 0.2500\n",
      "Epoch 6/100\n",
      " - 0s - loss: 2.6723 - acc: 0.3750\n",
      "Epoch 7/100\n",
      " - 0s - loss: 2.6511 - acc: 0.5000\n",
      "Epoch 8/100\n",
      " - 0s - loss: 2.6303 - acc: 0.5625\n",
      "Epoch 9/100\n",
      " - 0s - loss: 2.6097 - acc: 0.5625\n",
      "Epoch 10/100\n",
      " - 0s - loss: 2.5890 - acc: 0.6875\n",
      "Epoch 11/100\n",
      " - 0s - loss: 2.5684 - acc: 0.6875\n",
      "Epoch 12/100\n",
      " - 0s - loss: 2.5475 - acc: 0.7500\n",
      "Epoch 13/100\n",
      " - 0s - loss: 2.5262 - acc: 0.9375\n",
      "Epoch 14/100\n",
      " - 0s - loss: 2.5045 - acc: 0.9375\n",
      "Epoch 15/100\n",
      " - 0s - loss: 2.4825 - acc: 1.0000\n",
      "Epoch 16/100\n",
      " - 0s - loss: 2.4600 - acc: 1.0000\n",
      "Epoch 17/100\n",
      " - 0s - loss: 2.4370 - acc: 1.0000\n",
      "Epoch 18/100\n",
      " - 0s - loss: 2.4135 - acc: 1.0000\n",
      "Epoch 19/100\n",
      " - 0s - loss: 2.3895 - acc: 1.0000\n",
      "Epoch 20/100\n",
      " - 0s - loss: 2.3649 - acc: 1.0000\n",
      "Epoch 21/100\n",
      " - 0s - loss: 2.3399 - acc: 1.0000\n",
      "Epoch 22/100\n",
      " - 0s - loss: 2.3144 - acc: 1.0000\n",
      "Epoch 23/100\n",
      " - 0s - loss: 2.2882 - acc: 1.0000\n",
      "Epoch 24/100\n",
      " - 0s - loss: 2.2613 - acc: 1.0000\n",
      "Epoch 25/100\n",
      " - 0s - loss: 2.2337 - acc: 1.0000\n",
      "Epoch 26/100\n",
      " - 0s - loss: 2.2053 - acc: 1.0000\n",
      "Epoch 27/100\n",
      " - 0s - loss: 2.1760 - acc: 1.0000\n",
      "Epoch 28/100\n",
      " - 0s - loss: 2.1460 - acc: 1.0000\n",
      "Epoch 29/100\n",
      " - 0s - loss: 2.1152 - acc: 1.0000\n",
      "Epoch 30/100\n",
      " - 0s - loss: 2.0836 - acc: 1.0000\n",
      "Epoch 31/100\n",
      " - 0s - loss: 2.0513 - acc: 1.0000\n",
      "Epoch 32/100\n",
      " - 0s - loss: 2.0183 - acc: 1.0000\n",
      "Epoch 33/100\n",
      " - 0s - loss: 1.9847 - acc: 1.0000\n",
      "Epoch 34/100\n",
      " - 0s - loss: 1.9501 - acc: 1.0000\n",
      "Epoch 35/100\n",
      " - 0s - loss: 1.9149 - acc: 1.0000\n",
      "Epoch 36/100\n",
      " - 0s - loss: 1.8788 - acc: 1.0000\n",
      "Epoch 37/100\n",
      " - 0s - loss: 1.8418 - acc: 1.0000\n",
      "Epoch 38/100\n",
      " - 0s - loss: 1.8041 - acc: 1.0000\n",
      "Epoch 39/100\n",
      " - 0s - loss: 1.7656 - acc: 1.0000\n",
      "Epoch 40/100\n",
      " - 0s - loss: 1.7263 - acc: 1.0000\n",
      "Epoch 41/100\n",
      " - 0s - loss: 1.6862 - acc: 1.0000\n",
      "Epoch 42/100\n",
      " - 0s - loss: 1.6453 - acc: 1.0000\n",
      "Epoch 43/100\n",
      " - 0s - loss: 1.6039 - acc: 1.0000\n",
      "Epoch 44/100\n",
      " - 0s - loss: 1.5620 - acc: 1.0000\n",
      "Epoch 45/100\n",
      " - 0s - loss: 1.5194 - acc: 1.0000\n",
      "Epoch 46/100\n",
      " - 0s - loss: 1.4761 - acc: 1.0000\n",
      "Epoch 47/100\n",
      " - 0s - loss: 1.4323 - acc: 1.0000\n",
      "Epoch 48/100\n",
      " - 0s - loss: 1.3883 - acc: 1.0000\n",
      "Epoch 49/100\n",
      " - 0s - loss: 1.3438 - acc: 1.0000\n",
      "Epoch 50/100\n",
      " - 0s - loss: 1.2991 - acc: 1.0000\n",
      "Epoch 51/100\n",
      " - 0s - loss: 1.2541 - acc: 1.0000\n",
      "Epoch 52/100\n",
      " - 0s - loss: 1.2090 - acc: 1.0000\n",
      "Epoch 53/100\n",
      " - 0s - loss: 1.1639 - acc: 1.0000\n",
      "Epoch 54/100\n",
      " - 0s - loss: 1.1187 - acc: 1.0000\n",
      "Epoch 55/100\n",
      " - 0s - loss: 1.0737 - acc: 1.0000\n",
      "Epoch 56/100\n",
      " - 0s - loss: 1.0288 - acc: 1.0000\n",
      "Epoch 57/100\n",
      " - 0s - loss: 0.9843 - acc: 1.0000\n",
      "Epoch 58/100\n",
      " - 0s - loss: 0.9399 - acc: 1.0000\n",
      "Epoch 59/100\n",
      " - 0s - loss: 0.8961 - acc: 1.0000\n",
      "Epoch 60/100\n",
      " - 0s - loss: 0.8532 - acc: 1.0000\n",
      "Epoch 61/100\n",
      " - 0s - loss: 0.8109 - acc: 1.0000\n",
      "Epoch 62/100\n",
      " - 0s - loss: 0.7693 - acc: 1.0000\n",
      "Epoch 63/100\n",
      " - 0s - loss: 0.7287 - acc: 1.0000\n",
      "Epoch 64/100\n",
      " - 0s - loss: 0.6891 - acc: 1.0000\n",
      "Epoch 65/100\n",
      " - 0s - loss: 0.6505 - acc: 1.0000\n",
      "Epoch 66/100\n",
      " - 0s - loss: 0.6132 - acc: 1.0000\n",
      "Epoch 67/100\n",
      " - 0s - loss: 0.5773 - acc: 1.0000\n",
      "Epoch 68/100\n",
      " - 0s - loss: 0.5427 - acc: 1.0000\n",
      "Epoch 69/100\n",
      " - 0s - loss: 0.5095 - acc: 1.0000\n",
      "Epoch 70/100\n",
      " - 0s - loss: 0.4778 - acc: 1.0000\n",
      "Epoch 71/100\n",
      " - 0s - loss: 0.4476 - acc: 1.0000\n",
      "Epoch 72/100\n",
      " - 0s - loss: 0.4189 - acc: 1.0000\n",
      "Epoch 73/100\n",
      " - 0s - loss: 0.3917 - acc: 1.0000\n",
      "Epoch 74/100\n",
      " - 0s - loss: 0.3660 - acc: 1.0000\n",
      "Epoch 75/100\n",
      " - 0s - loss: 0.3417 - acc: 1.0000\n",
      "Epoch 76/100\n",
      " - 0s - loss: 0.3189 - acc: 1.0000\n",
      "Epoch 77/100\n",
      " - 0s - loss: 0.2976 - acc: 1.0000\n",
      "Epoch 78/100\n",
      " - 0s - loss: 0.2777 - acc: 1.0000\n",
      "Epoch 79/100\n",
      " - 0s - loss: 0.2591 - acc: 1.0000\n",
      "Epoch 80/100\n",
      " - 0s - loss: 0.2419 - acc: 1.0000\n",
      "Epoch 81/100\n",
      " - 0s - loss: 0.2259 - acc: 1.0000\n",
      "Epoch 82/100\n",
      " - 0s - loss: 0.2111 - acc: 1.0000\n",
      "Epoch 83/100\n",
      " - 0s - loss: 0.1974 - acc: 1.0000\n",
      "Epoch 84/100\n",
      " - 0s - loss: 0.1847 - acc: 1.0000\n",
      "Epoch 85/100\n",
      " - 0s - loss: 0.1729 - acc: 1.0000\n",
      "Epoch 86/100\n",
      " - 0s - loss: 0.1621 - acc: 1.0000\n",
      "Epoch 87/100\n",
      " - 0s - loss: 0.1520 - acc: 1.0000\n",
      "Epoch 88/100\n",
      " - 0s - loss: 0.1428 - acc: 1.0000\n",
      "Epoch 89/100\n",
      " - 0s - loss: 0.1343 - acc: 1.0000\n",
      "Epoch 90/100\n",
      " - 0s - loss: 0.1264 - acc: 1.0000\n",
      "Epoch 91/100\n",
      " - 0s - loss: 0.1192 - acc: 1.0000\n",
      "Epoch 92/100\n",
      " - 0s - loss: 0.1125 - acc: 1.0000\n",
      "Epoch 93/100\n",
      " - 0s - loss: 0.1064 - acc: 1.0000\n",
      "Epoch 94/100\n",
      " - 0s - loss: 0.1007 - acc: 1.0000\n",
      "Epoch 95/100\n",
      " - 0s - loss: 0.0954 - acc: 1.0000\n",
      "Epoch 96/100\n",
      " - 0s - loss: 0.0906 - acc: 1.0000\n",
      "Epoch 97/100\n",
      " - 0s - loss: 0.0861 - acc: 1.0000\n",
      "Epoch 98/100\n",
      " - 0s - loss: 0.0819 - acc: 1.0000\n",
      "Epoch 99/100\n",
      " - 0s - loss: 0.0781 - acc: 1.0000\n",
      "Epoch 100/100\n",
      " - 0s - loss: 0.0745 - acc: 1.0000\n"
     ]
    },
    {
     "data": {
      "text/plain": [
       "<keras.callbacks.History at 0xfb52da0>"
      ]
     },
     "execution_count": 18,
     "metadata": {},
     "output_type": "execute_result"
    }
   ],
   "source": [
    "# train the corrected input model\n",
    "model_corrector.fit( X_train,\n",
    "    y_train_cor,\n",
    "    epochs=100,\n",
    "    shuffle=True,\n",
    "    verbose=2\n",
    ")    "
   ]
  },
  {
   "cell_type": "markdown",
   "metadata": {},
   "source": [
    "### 3.3/ Use the models to predict the mangled image and corrected input"
   ]
  },
  {
   "cell_type": "markdown",
   "metadata": {},
   "source": [
    "Split the Mreal matrix into n matrices of one pixel:"
   ]
  },
  {
   "cell_type": "code",
   "execution_count": 19,
   "metadata": {
    "code_folding": []
   },
   "outputs": [],
   "source": [
    "# Function to add one on the designated index\n",
    "def add_one(arr,index):\n",
    "    arr[0,index] = 1\n",
    "    return arr\n",
    "\n",
    "# Function to split the matrix into matrices of one pixel\n",
    "def split_matrix(mat):\n",
    "    \"\"\" Split a matrix into matrices of one pixel\"\"\"\n",
    "    # find the indexes of the ones values in the matrix\n",
    "    idx_arr = np.where(mat.reshape(1,nbpix**2)[0]==1)[0]\n",
    "    # transform from an array to a list\n",
    "    idx_lst = [idx_arr.item(ii) for ii in range(0,len(idx_arr))] \n",
    "    temp = np.zeros((1,nbpix**2))\n",
    "    mat_split = np.zeros((len(idx_lst), nbpix**2))\n",
    "#     Mtest = np.zeros((nbpix,nbpix))\n",
    "    for ii in range(0,len(idx_lst)):\n",
    "        mat_split[ii,idx_lst[ii]] = 1    \n",
    "#         Mtest = Mtest + Mreal_split[ii,:].reshape(nbpix,nbpix)\n",
    "    return mat_split\n",
    "\n",
    "Mreal_split = split_matrix(Mreal)\n",
    "# Mreal_split"
   ]
  },
  {
   "cell_type": "markdown",
   "metadata": {},
   "source": [
    "Use the trained models to predict the mangled response and the corrected input response of all of these one pixel images\n",
    "and then rebuild the full image by adding up all the result matrixes."
   ]
  },
  {
   "cell_type": "code",
   "execution_count": null,
   "metadata": {},
   "outputs": [],
   "source": []
  },
  {
   "cell_type": "code",
   "execution_count": 20,
   "metadata": {},
   "outputs": [],
   "source": [
    "# Prediction functions\n",
    "def predict_mangler(mat):\n",
    "    # split the input matrix into matrices of one pixel\n",
    "    mat_split = split_matrix(mat)\n",
    "    nb_dark_pxl = mat_split.shape[0]\n",
    "    \n",
    "    # initializations\n",
    "    res = np.zeros((nb_dark_pxl, nbpix**2))\n",
    "    Mres = np.zeros((nbpix,nbpix))\n",
    "    # Loop on all the one pixels array\n",
    "    for ii in range(0,nb_dark_pxl):\n",
    "        # Apply the models to the one pixel matrices\n",
    "        res[ii,:] = model_mangler.predict(np.expand_dims(mat_split[ii], axis=0))\n",
    "        # Sum up the results to construct the matrices\n",
    "        Mres = Mres + res[ii,:].reshape(nbpix,nbpix)\n",
    "    return Mres\n",
    "\n",
    "def predict_corrector(mat):\n",
    "    # split the input matrix into matrices of one pixel\n",
    "    mat_split = split_matrix(mat)\n",
    "    nb_dark_pxl = mat_split.shape[0]\n",
    "    \n",
    "    # initializations\n",
    "    res = np.zeros((nb_dark_pxl, nbpix**2))\n",
    "    Mres = np.zeros((nbpix,nbpix))\n",
    "    # Loop on all the one pixels array\n",
    "    for ii in range(0,nb_dark_pxl):\n",
    "        # Apply the models to the one pixel matrices\n",
    "        res[ii,:] = model_corrector.predict(np.expand_dims(mat_split[ii], axis=0))\n",
    "        # Sum up the results to construct the matrices\n",
    "        Mres = Mres + res[ii,:].reshape(nbpix,nbpix)\n",
    "    return Mres\n",
    "    \n"
   ]
  },
  {
   "cell_type": "code",
   "execution_count": 21,
   "metadata": {},
   "outputs": [
    {
     "data": {
      "image/png": "[encoded data removed]",
      "text/plain": [
       "<Figure size 576x576 with 4 Axes>"
      ]
     },
     "metadata": {},
     "output_type": "display_data"
    }
   ],
   "source": [
    "# Predict the mangled image based on the real one\n",
    "Mmang_ml = predict_mangler(Mreal)\n",
    "# Predict the corrected input based on the real image\n",
    "Mcor_ml = predict_corrector(Mreal)\n",
    "# Prediction the output from the corrected input\n",
    "Mout_ml = predict_mangler(np.round(Mcor_ml))\n",
    "# plot the results\n",
    "vis_matrices(Mreal, Mmang_ml,Mcor_ml, Mout_ml)\n"
   ]
  },
  {
   "cell_type": "markdown",
   "metadata": {},
   "source": [
    "## 4/ Increase the nb of pixels"
   ]
  },
  {
   "cell_type": "code",
   "execution_count": null,
   "metadata": {},
   "outputs": [],
   "source": [
    "# # nb of pixels considered into the picture\n",
    "# nbpix = 6\n",
    "# transform_type = \"translation\"\n",
    "# nb_lvl_gray = 1"
   ]
  },
  {
   "cell_type": "code",
   "execution_count": null,
   "metadata": {},
   "outputs": [],
   "source": [
    "# # Transformation matrices\n",
    "\n",
    "# if transform_type is \"translation\":\n",
    "#     # nb of pixels translated\n",
    "#     nbt = int(np.round(0.25*nbpix))\n",
    "\n",
    "#     # bottom left square block\n",
    "#     bl = np.eye(nbpix-nbt,nbpix-nbt)\n",
    "#     # upper right square block\n",
    "#     ur = np.eye(nbt,nbt)\n",
    "#     # upper left rect block\n",
    "#     ul = np.zeros((nbt,nbpix-nbt))\n",
    "#     # bottom right rect block\n",
    "#     br = np.zeros((nbpix-nbt,nbt))\n",
    "\n",
    "#     # concatenate the blocks to build the transformation matrix\n",
    "#     P = np.concatenate((np.concatenate((ul,ur), axis=1), np.concatenate((bl,br), axis=1)), axis=0)\n",
    "#     Pstar = np.linalg.inv(P)\n"
   ]
  },
  {
   "cell_type": "code",
   "execution_count": null,
   "metadata": {},
   "outputs": [],
   "source": [
    "# # Create the training data\n",
    "# (Mreal_tab, Mmang_tab, Mstar_tab) = create_training_data(nbpix,nb_lvl_gray)\n",
    "\n",
    "# X_train = Mreal_tab\n",
    "\n",
    "# # the training output will be the category corresponding to the position of the pixel in the mangled image\n",
    "# y_train = [np.where(Mmang_tab[ii,:]==1)[0].item(0) for ii in idx]\n",
    "# y_train = to_categorical(y_train, nbpix**2)\n",
    "\n",
    "# # or the position of the pixel in the corrected image\n",
    "# y_train_cor = [np.where(Mstar_tab[ii,:]==1)[0].item(0) for ii in idx]\n",
    "# y_train_cor = to_categorical(y_train_cor, nbpix**2)\n",
    "# y_train.shape"
   ]
  },
  {
   "cell_type": "code",
   "execution_count": null,
   "metadata": {},
   "outputs": [],
   "source": [
    "# # creating the models\n",
    "# model_mangler = Sequential()\n",
    "# model_mangler.add(Dense(100, activation='relu', input_dim=nbpix**2))\n",
    "# model_mangler.add(Dense(100, activation='relu'))\n",
    "# model_mangler.add(Dense(nbpix**2, activation='softmax'))\n",
    "# # Inversion strategy doesnt work very well...\n",
    "# # we are going to try using another model, trained on the corrected input.\n",
    "# model_corrector = Sequential()\n",
    "# model_corrector.add(Dense(100, activation='relu', input_dim=nbpix**2))\n",
    "# model_corrector.add(Dense(100, activation='relu'))\n",
    "# model_corrector.add(Dense(nbpix**2, activation='softmax'))\n",
    "\n",
    "# # Compile the models\n",
    "# model_mangler.compile(loss=\"categorical_crossentropy\",\n",
    "#               optimizer=\"adam\", metrics=['accuracy'])\n",
    "# model_corrector.compile(loss=\"categorical_crossentropy\",\n",
    "#               optimizer=\"adam\", metrics=['accuracy'])\n",
    "\n"
   ]
  },
  {
   "cell_type": "code",
   "execution_count": null,
   "metadata": {},
   "outputs": [],
   "source": [
    "# # train the model \"mangler\"\n",
    "# model_mangler.fit( X_train,\n",
    "#     y_train,\n",
    "#     epochs=100,\n",
    "#     shuffle=True,\n",
    "#     verbose=2\n",
    "# )"
   ]
  },
  {
   "cell_type": "code",
   "execution_count": null,
   "metadata": {},
   "outputs": [],
   "source": [
    "# # train the corrected input model\n",
    "# model_corrector.fit( X_train,\n",
    "#     y_train_cor,\n",
    "#     epochs=100,\n",
    "#     shuffle=True,\n",
    "#     verbose=2\n",
    "# ) "
   ]
  },
  {
   "cell_type": "code",
   "execution_count": null,
   "metadata": {},
   "outputs": [],
   "source": []
  },
  {
   "cell_type": "code",
   "execution_count": null,
   "metadata": {},
   "outputs": [],
   "source": []
  },
  {
   "cell_type": "code",
   "execution_count": null,
   "metadata": {},
   "outputs": [],
   "source": []
  },
  {
   "cell_type": "code",
   "execution_count": null,
   "metadata": {},
   "outputs": [],
   "source": []
  },
  {
   "cell_type": "code",
   "execution_count": null,
   "metadata": {},
   "outputs": [],
   "source": []
  },
  {
   "cell_type": "code",
   "execution_count": null,
   "metadata": {},
   "outputs": [],
   "source": []
  },
  {
   "cell_type": "code",
   "execution_count": null,
   "metadata": {},
   "outputs": [],
   "source": []
  },
  {
   "cell_type": "code",
   "execution_count": null,
   "metadata": {},
   "outputs": [],
   "source": []
  },
  {
   "cell_type": "code",
   "execution_count": null,
   "metadata": {},
   "outputs": [],
   "source": []
  },
  {
   "cell_type": "code",
   "execution_count": null,
   "metadata": {},
   "outputs": [],
   "source": []
  },
  {
   "cell_type": "code",
   "execution_count": null,
   "metadata": {},
   "outputs": [],
   "source": []
  },
  {
   "cell_type": "code",
   "execution_count": null,
   "metadata": {},
   "outputs": [],
   "source": []
  },
  {
   "cell_type": "code",
   "execution_count": null,
   "metadata": {},
   "outputs": [],
   "source": []
  },
  {
   "cell_type": "code",
   "execution_count": null,
   "metadata": {},
   "outputs": [],
   "source": []
  },
  {
   "cell_type": "code",
   "execution_count": null,
   "metadata": {},
   "outputs": [],
   "source": []
  },
  {
   "cell_type": "markdown",
   "metadata": {},
   "source": [
    "- an artificial feed-forward-type multi-layer neural network configured, e.g., using the Error-Backpropagation algorithm; \n",
    "- a Hopfield-type Attractor neural network configured with, e.g., the Projection Rule or the Pseudoinverse algorithm; \n",
    "- and/or a recurrent neural network trained, e.g., with algo rithms such as Real-Time Recurrent Learning algorithm and the Time-Dependent Recurrent Backpropagation to determine a vision solution. "
   ]
  },
  {
   "cell_type": "code",
   "execution_count": null,
   "metadata": {},
   "outputs": [],
   "source": []
  },
  {
   "cell_type": "code",
   "execution_count": null,
   "metadata": {},
   "outputs": [],
   "source": []
  },
  {
   "cell_type": "code",
   "execution_count": null,
   "metadata": {},
   "outputs": [],
   "source": [
    "\n"
   ]
  },
  {
   "cell_type": "code",
   "execution_count": null,
   "metadata": {},
   "outputs": [],
   "source": []
  }
 ],
 "metadata": {
  "kernelspec": {
   "display_name": "Python 3",
   "language": "python",
   "name": "python3"
  },
  "language_info": {
   "codemirror_mode": {
    "name": "ipython",
    "version": 3
   },
   "file_extension": ".py",
   "mimetype": "text/x-python",
   "name": "python",
   "nbconvert_exporter": "python",
   "pygments_lexer": "ipython3",
   "version": "3.6.5"
  }
 },
 "nbformat": 4,
 "nbformat_minor": 2
}
