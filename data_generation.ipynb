{
 "cells": [
  {
   "cell_type": "code",
   "execution_count": 42,
   "metadata": {},
   "outputs": [],
   "source": [
    "import numpy as np\n",
    "import pandas as pd\n",
    "import matplotlib.pyplot as plt\n",
    "import matplotlib as mpl\n",
    "mpl.rc('image', cmap='gray_r')"
   ]
  },
  {
   "cell_type": "code",
   "execution_count": 43,
   "metadata": {},
   "outputs": [],
   "source": [
    "# Transformation matrices\n",
    "P = np.array([[0, 0, 0, 1],\n",
    "              [1, 0, 0, 0],\n",
    "              [0, 1, 0, 0],\n",
    "              [0, 0, 1, 0]])\n",
    "Pstar = np.array([[0, 1, 0, 0],\n",
    "                  [0, 0, 1, 0],\n",
    "                  [0, 0, 0, 1],\n",
    "                  [1, 0, 0, 0]])\n"
   ]
  },
  {
   "cell_type": "code",
   "execution_count": 69,
   "metadata": {},
   "outputs": [],
   "source": [
    "# real image\n",
    "Mreal = np.array([[0, 0, 0, 0],\n",
    "                  [0, 1, 1, 0],\n",
    "                  [0, 1, 1, 0],\n",
    "                  [0, 1, 1, 0]])\n",
    "Mreal = np.ones((4,4)) - Mreal\n",
    "# distorted image\n",
    "Mmang = Mreal@P\n",
    "\n",
    "# corrected input\n",
    "Mstar = Mreal@Pstar\n",
    "\n",
    "# np.linalg.det(Mreal)"
   ]
  },
  {
   "cell_type": "code",
   "execution_count": 70,
   "metadata": {},
   "outputs": [
    {
     "data": {
      "text/plain": [
       "Text(0.5,1,'Corrected visualization')"
      ]
     },
     "execution_count": 70,
     "metadata": {},
     "output_type": "execute_result"
    },
    {
     "data": {
      "image/png": "[encoded data removed]",
      "text/plain": [
       "<Figure size 576x576 with 4 Axes>"
      ]
     },
     "metadata": {},
     "output_type": "display_data"
    }
   ],
   "source": [
    "# plt.figure(1)\n",
    "fig, (ax1,ax2) = plt.subplots(nrows=2,ncols=2) #, squeeze=True, sharey=True)\n",
    "fig.set_size_inches(8,8)\n",
    "\n",
    "plt.sca(ax1[0])\n",
    "plt.imshow(Mreal)\n",
    "plt.title(\"Real image\")\n",
    "\n",
    "plt.sca(ax2[0])\n",
    "plt.imshow(Mmang)\n",
    "plt.title(\"Distorted image\")\n",
    "\n",
    "plt.sca(ax1[1])\n",
    "plt.imshow(Mstar)\n",
    "plt.title(\"Corrected input\")\n",
    "\n",
    "plt.sca(ax2[1])\n",
    "plt.imshow(Mstar@P)\n",
    "plt.title(\"Corrected visualization\")"
   ]
  },
  {
   "cell_type": "code",
   "execution_count": 131,
   "metadata": {},
   "outputs": [
    {
     "data": {
      "text/plain": [
       "array([0.3, 0.4, 0.5, 0.6, 0.7, 0.8])"
      ]
     },
     "execution_count": 131,
     "metadata": {},
     "output_type": "execute_result"
    }
   ],
   "source": [
    "# Define the randomization criteria\n",
    "# proportions of one and zeros in the random matrices\n",
    "cut = np.linspace(0.3,0.8,6)\n",
    "nbpix = 4\n",
    "nb_per_cut = 1000\n",
    "cut"
   ]
  },
  {
   "cell_type": "code",
   "execution_count": 132,
   "metadata": {},
   "outputs": [
    {
     "data": {
      "text/plain": [
       "array([[0, 0, 1, 0],\n",
       "       [0, 0, 0, 1],\n",
       "       [0, 0, 1, 0],\n",
       "       [0, 0, 0, 0]])"
      ]
     },
     "execution_count": 132,
     "metadata": {},
     "output_type": "execute_result"
    }
   ],
   "source": [
    "np.random.choice([0, 1], size=(nbpix,nbpix), p=[ 1-cut[0], cut[0]])"
   ]
  },
  {
   "cell_type": "code",
   "execution_count": 133,
   "metadata": {},
   "outputs": [],
   "source": [
    "# generating the dataset\n",
    "Mreal_tab = np.zeros((len(cut)*nb_per_cut,nbpix,nbpix))\n",
    "Mmang_tab = np.zeros((len(cut)*nb_per_cut,nbpix,nbpix))\n",
    "Mstar_tab = np.zeros((len(cut)*nb_per_cut,nbpix,nbpix))\n",
    "for cc in cut:\n",
    "    ii = 0\n",
    "    while ii < nb_per_cut:\n",
    "        Mreal_tab[ii,:,:] = np.random.choice([0, 1], size=(nbpix,nbpix), p=[ 1-cc, cc])\n",
    "        Mmang_tab[ii,:,:] = Mreal@P\n",
    "        Mstar_tab[ii,:,:] = Mreal@Pstar\n",
    "        ii += 1"
   ]
  },
  {
   "cell_type": "code",
   "execution_count": 130,
   "metadata": {},
   "outputs": [
    {
     "data": {
      "text/plain": [
       "(600, 4, 4)"
      ]
     },
     "execution_count": 130,
     "metadata": {},
     "output_type": "execute_result"
    }
   ],
   "source": [
    "type(Mreal_tab)\n",
    "Mreal_tab.shape"
   ]
  },
  {
   "cell_type": "code",
   "execution_count": 122,
   "metadata": {},
   "outputs": [],
   "source": []
  },
  {
   "cell_type": "code",
   "execution_count": null,
   "metadata": {},
   "outputs": [],
   "source": []
  }
 ],
 "metadata": {
  "kernelspec": {
   "display_name": "Python 3",
   "language": "python",
   "name": "python3"
  },
  "language_info": {
   "codemirror_mode": {
    "name": "ipython",
    "version": 3
   },
   "file_extension": ".py",
   "mimetype": "text/x-python",
   "name": "python",
   "nbconvert_exporter": "python",
   "pygments_lexer": "ipython3",
   "version": "3.6.5"
  }
 },
 "nbformat": 4,
 "nbformat_minor": 2
}
