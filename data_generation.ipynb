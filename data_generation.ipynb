{
 "cells": [
  {
   "cell_type": "code",
   "execution_count": 1,
   "metadata": {},
   "outputs": [],
   "source": [
    "import numpy as np\n",
    "import pandas as pd\n",
    "import matplotlib.pyplot as plt\n",
    "import matplotlib as mpl\n",
    "from sklearn import tree\n",
    "import os\n",
    "import random\n",
    "\n",
    "mpl.rc('image', cmap='gray_r')"
   ]
  },
  {
   "cell_type": "code",
   "execution_count": 2,
   "metadata": {},
   "outputs": [],
   "source": [
    "# Transformation matrices\n",
    "P = np.array([[0, 0, 0, 1],\n",
    "              [1, 0, 0, 0],\n",
    "              [0, 1, 0, 0],\n",
    "              [0, 0, 1, 0]])\n",
    "Pstar = np.array([[0, 1, 0, 0],\n",
    "                  [0, 0, 1, 0],\n",
    "                  [0, 0, 0, 1],\n",
    "                  [1, 0, 0, 0]])\n"
   ]
  },
  {
   "cell_type": "code",
   "execution_count": 3,
   "metadata": {},
   "outputs": [],
   "source": [
    "# real image\n",
    "Mreal = np.array([[0, 0, 0, 0],\n",
    "                  [0, 1, 1, 0],\n",
    "                  [0, 1, 1, 0],\n",
    "                  [0, 1, 1, 0]])\n",
    "Mreal = np.ones((4,4)) - Mreal\n",
    "# distorted image\n",
    "Mmang = Mreal@P\n",
    "\n",
    "# corrected input\n",
    "Mstar = Mreal@Pstar\n",
    "\n",
    "# np.linalg.det(Mreal)"
   ]
  },
  {
   "cell_type": "code",
   "execution_count": 84,
   "metadata": {
    "scrolled": false
   },
   "outputs": [
    {
     "data": {
      "image/png": "[encoded data removed]",
      "text/plain": [
       "<Figure size 576x576 with 4 Axes>"
      ]
     },
     "metadata": {},
     "output_type": "display_data"
    }
   ],
   "source": [
    "# plt.figure(1)\n",
    "def vis_matrices(Mr, Mm, Mst, P):\n",
    "    if Mr.shape[0]==1:\n",
    "        Mr = Mr.reshape(int(np.sqrt(Mr.shape[1])), int(np.sqrt(Mr.shape[1])))\n",
    "        Mm = Mm.reshape(int(np.sqrt(Mm.shape[1])), int(np.sqrt(Mm.shape[1])))\n",
    "        Mst = Mst.reshape(int(np.sqrt(Mst.shape[1])), int(np.sqrt(Mst.shape[1])))\n",
    "    \n",
    "    fig, (ax1,ax2) = plt.subplots(nrows=2,ncols=2) #, squeeze=True, sharey=True)\n",
    "    fig.set_size_inches(8,8)\n",
    "\n",
    "    plt.sca(ax1[0])\n",
    "    plt.imshow(Mr)\n",
    "    plt.title(\"Real image\")\n",
    "\n",
    "    plt.sca(ax2[0])\n",
    "    plt.imshow(Mm)\n",
    "    plt.title(\"Distorted image\")\n",
    "\n",
    "    plt.sca(ax1[1])\n",
    "    plt.imshow(Mst)\n",
    "    plt.title(\"Corrected input\")\n",
    "\n",
    "    plt.sca(ax2[1])\n",
    "    plt.imshow(Mst@P)\n",
    "    plt.title(\"Corrected visualization\")\n",
    "vis_matrices(Mreal, Mmang, Mstar, P)"
   ]
  },
  {
   "cell_type": "code",
   "execution_count": 6,
   "metadata": {},
   "outputs": [],
   "source": [
    "# Define the randomization criteria\n",
    "# proportions of one and zeros in the random matrices\n",
    "cut = np.linspace(0.3,0.8,6)\n",
    "nbpix = 4\n",
    "nb_per_cut = 100\n",
    "nb_cut = len(cut)\n",
    "nb_sample = nb_per_cut*nb_cut"
   ]
  },
  {
   "cell_type": "code",
   "execution_count": 221,
   "metadata": {},
   "outputs": [
    {
     "data": {
      "text/plain": [
       "array([[1, 1, 1, 0],\n",
       "       [1, 1, 1, 0],\n",
       "       [0, 0, 0, 1],\n",
       "       [1, 1, 1, 1]])"
      ]
     },
     "execution_count": 221,
     "metadata": {},
     "output_type": "execute_result"
    }
   ],
   "source": [
    "np.random.choice([0, 1], size=(nbpix,nbpix), p=[ 1-cut[5], cut[5]])"
   ]
  },
  {
   "cell_type": "code",
   "execution_count": 222,
   "metadata": {},
   "outputs": [
    {
     "name": "stdout",
     "output_type": "stream",
     "text": [
      "0.3\n",
      "0.4\n",
      "0.5\n",
      "0.6000000000000001\n",
      "0.7\n",
      "0.8\n"
     ]
    }
   ],
   "source": [
    "# generating the dataset\n",
    "Mreal_tab = np.zeros((len(cut)*nb_per_cut,nbpix*nbpix))\n",
    "Mmang_tab = np.zeros((len(cut)*nb_per_cut,nbpix*nbpix))\n",
    "Mstar_tab = np.zeros((len(cut)*nb_per_cut,nbpix*nbpix))\n",
    "\n",
    "Mreal_tab = np.zeros((len(cut)*nb_per_cut,nbpix*nbpix))\n",
    "Mmang_tab = np.zeros((len(cut)*nb_per_cut,nbpix*nbpix))\n",
    "Mstar_tab = np.zeros((len(cut)*nb_per_cut,nbpix*nbpix))\n",
    "\n",
    "Mreal_list = []\n",
    "Mmang_list = []\n",
    "Mstar_list = []\n",
    "jj = 0\n",
    "for cc in cut:    \n",
    "    print(cc)\n",
    "    ii = 0\n",
    "    while ii < nb_per_cut:\n",
    "        temp_Mreal = np.random.choice([0, 1], size=(nbpix,nbpix), p=[ 1-cc, cc])\n",
    "#         print(temp_Mreal)\n",
    "#         print(ii)\n",
    "        Mreal_tab[jj,:] = temp_Mreal.reshape(1,nbpix**2)\n",
    "        Mmang_tab[jj,:] = (temp_Mreal@P).reshape(1,nbpix**2)\n",
    "        Mstar_tab[jj,:] = (temp_Mreal@Pstar).reshape(1,nbpix**2)\n",
    "        Mreal_list.append((temp_Mreal).reshape(1,nbpix**2))\n",
    "        Mmang_list.append((temp_Mreal@P).reshape(1,nbpix**2))\n",
    "        Mstar_list.append((temp_Mreal@Pstar).reshape(1,nbpix**2))\n",
    "        ii += 1\n",
    "        jj += 1"
   ]
  },
  {
   "cell_type": "code",
   "execution_count": 227,
   "metadata": {},
   "outputs": [
    {
     "data": {
      "text/plain": [
       "array([0., 0., 0., 1., 1., 0., 0., 0., 0., 1., 0., 0., 0., 0., 0., 1.])"
      ]
     },
     "execution_count": 227,
     "metadata": {},
     "output_type": "execute_result"
    }
   ],
   "source": [
    "type(Mreal_tab)\n",
    "Mreal_tab[0]"
   ]
  },
  {
   "cell_type": "code",
   "execution_count": 241,
   "metadata": {},
   "outputs": [
    {
     "name": "stdout",
     "output_type": "stream",
     "text": [
      "[1. 1. 1. 1. 1. 1. 1. 1. 1. 1. 1. 0. 1. 1. 1. 1.]\n"
     ]
    },
    {
     "data": {
      "image/png": "[encoded data removed]",
      "text/plain": [
       "<Figure size 576x576 with 4 Axes>"
      ]
     },
     "metadata": {},
     "output_type": "display_data"
    }
   ],
   "source": [
    "n = 540\n",
    "print(Mreal_tab[n,:])\n",
    "vis_matrices(Mreal_tab[n,:].reshape(nbpix,nbpix), Mmang_tab[n,:].reshape(nbpix,nbpix), Mstar_tab[n,:].reshape(nbpix,nbpix), P)"
   ]
  },
  {
   "cell_type": "code",
   "execution_count": 223,
   "metadata": {},
   "outputs": [
    {
     "data": {
      "text/plain": [
       "real    600\n",
       "mang    600\n",
       "star    600\n",
       "dtype: int64"
      ]
     },
     "execution_count": 223,
     "metadata": {},
     "output_type": "execute_result"
    }
   ],
   "source": [
    "data = pd.DataFrame({\"real\":Mreal_list,\n",
    "                    \"mang\": Mmang_list,\n",
    "                    \"star\": Mstar_list})\n",
    "data.head()\n",
    "data.count()"
   ]
  },
  {
   "cell_type": "code",
   "execution_count": 13,
   "metadata": {},
   "outputs": [],
   "source": [
    "# let's try to train the model with only one pixel on each figure. \n",
    "# then we can use categorical for the result: the cqtegory being the position of the pixel.\n",
    "# input a grid, output a position between one to 16\n",
    "\n",
    "# Generating the training data.\n",
    "idx = range(0,nbpix**2,1)\n",
    "\n",
    "Mreal_tab = np.zeros((len(idx),nbpix*nbpix))\n",
    "Mmang_tab = np.zeros((len(idx),nbpix*nbpix))\n",
    "Mstar_tab = np.zeros((len(idx),nbpix*nbpix))\n",
    "\n",
    "for ii in idx:\n",
    "    Mreal_tab[ii,ii] = 1\n",
    "    Mmang_tab[ii,:] = (Mreal_tab[ii,:].reshape(nbpix,nbpix)@P).reshape(1,nbpix**2)\n",
    "    Mstar_tab[ii,:] = (Mreal_tab[ii,:].reshape(nbpix,nbpix)@Pstar).reshape(1,nbpix**2)\n",
    "\n",
    "    "
   ]
  },
  {
   "cell_type": "code",
   "execution_count": 41,
   "metadata": {},
   "outputs": [
    {
     "data": {
      "image/png": "[encoded data removed]",
      "text/plain": [
       "<Figure size 576x576 with 4 Axes>"
      ]
     },
     "metadata": {},
     "output_type": "display_data"
    }
   ],
   "source": [
    "n = 0\n",
    "vis_matrices(Mreal_tab[n,:].reshape(nbpix,nbpix), Mmang_tab[n,:].reshape(nbpix,nbpix), Mstar_tab[n,:].reshape(nbpix,nbpix), P)    "
   ]
  },
  {
   "cell_type": "code",
   "execution_count": 19,
   "metadata": {},
   "outputs": [],
   "source": [
    "# the training input will the matrix of the real images with one pixel\n",
    "X_train = Mreal_tab"
   ]
  },
  {
   "cell_type": "code",
   "execution_count": 42,
   "metadata": {},
   "outputs": [
    {
     "data": {
      "text/plain": [
       "array([[0., 0., 0., 1., 0., 0., 0., 0., 0., 0., 0., 0., 0., 0., 0., 0.],\n",
       "       [1., 0., 0., 0., 0., 0., 0., 0., 0., 0., 0., 0., 0., 0., 0., 0.],\n",
       "       [0., 1., 0., 0., 0., 0., 0., 0., 0., 0., 0., 0., 0., 0., 0., 0.],\n",
       "       [0., 0., 1., 0., 0., 0., 0., 0., 0., 0., 0., 0., 0., 0., 0., 0.],\n",
       "       [0., 0., 0., 0., 0., 0., 0., 1., 0., 0., 0., 0., 0., 0., 0., 0.],\n",
       "       [0., 0., 0., 0., 1., 0., 0., 0., 0., 0., 0., 0., 0., 0., 0., 0.],\n",
       "       [0., 0., 0., 0., 0., 1., 0., 0., 0., 0., 0., 0., 0., 0., 0., 0.],\n",
       "       [0., 0., 0., 0., 0., 0., 1., 0., 0., 0., 0., 0., 0., 0., 0., 0.],\n",
       "       [0., 0., 0., 0., 0., 0., 0., 0., 0., 0., 0., 1., 0., 0., 0., 0.],\n",
       "       [0., 0., 0., 0., 0., 0., 0., 0., 1., 0., 0., 0., 0., 0., 0., 0.],\n",
       "       [0., 0., 0., 0., 0., 0., 0., 0., 0., 1., 0., 0., 0., 0., 0., 0.],\n",
       "       [0., 0., 0., 0., 0., 0., 0., 0., 0., 0., 1., 0., 0., 0., 0., 0.],\n",
       "       [0., 0., 0., 0., 0., 0., 0., 0., 0., 0., 0., 0., 0., 0., 0., 1.],\n",
       "       [0., 0., 0., 0., 0., 0., 0., 0., 0., 0., 0., 0., 1., 0., 0., 0.],\n",
       "       [0., 0., 0., 0., 0., 0., 0., 0., 0., 0., 0., 0., 0., 1., 0., 0.],\n",
       "       [0., 0., 0., 0., 0., 0., 0., 0., 0., 0., 0., 0., 0., 0., 1., 0.]],\n",
       "      dtype=float32)"
      ]
     },
     "execution_count": 42,
     "metadata": {},
     "output_type": "execute_result"
    }
   ],
   "source": [
    "# the training output will be the category corresponding to the position of the pixel in the mangled image\n",
    "y_train = [np.where(Mmang_tab[ii,:]==1)[0].item(0) for ii in idx]\n",
    "y_train = to_categorical(y_train, nbpix**2)\n",
    "y_train\n",
    "\n"
   ]
  },
  {
   "cell_type": "code",
   "execution_count": null,
   "metadata": {},
   "outputs": [],
   "source": []
  },
  {
   "cell_type": "code",
   "execution_count": 56,
   "metadata": {},
   "outputs": [],
   "source": [
    "from keras.models import Sequential\n",
    "from keras.utils import to_categorical\n",
    "from keras.layers import Dense\n",
    "from keras.datasets import mnist"
   ]
  },
  {
   "cell_type": "code",
   "execution_count": 57,
   "metadata": {},
   "outputs": [],
   "source": [
    "# creating the model\n",
    "model = Sequential()\n",
    "model.add(Dense(100, activation='relu', input_dim=nbpix**2))\n",
    "model.add(Dense(100, activation='relu'))\n",
    "model.add(Dense(nbpix**2, activation='softmax'))"
   ]
  },
  {
   "cell_type": "code",
   "execution_count": 58,
   "metadata": {},
   "outputs": [],
   "source": [
    "# Compile the model\n",
    "model.compile(loss=\"categorical_crossentropy\",\n",
    "              optimizer=\"adam\", metrics=['accuracy'])"
   ]
  },
  {
   "cell_type": "code",
   "execution_count": 59,
   "metadata": {},
   "outputs": [
    {
     "name": "stdout",
     "output_type": "stream",
     "text": [
      "_________________________________________________________________\n",
      "Layer (type)                 Output Shape              Param #   \n",
      "=================================================================\n",
      "dense_7 (Dense)              (None, 100)               1700      \n",
      "_________________________________________________________________\n",
      "dense_8 (Dense)              (None, 100)               10100     \n",
      "_________________________________________________________________\n",
      "dense_9 (Dense)              (None, 16)                1616      \n",
      "=================================================================\n",
      "Total params: 13,416\n",
      "Trainable params: 13,416\n",
      "Non-trainable params: 0\n",
      "_________________________________________________________________\n"
     ]
    }
   ],
   "source": [
    "model.summary()"
   ]
  },
  {
   "cell_type": "code",
   "execution_count": 60,
   "metadata": {},
   "outputs": [
    {
     "name": "stdout",
     "output_type": "stream",
     "text": [
      "Epoch 1/100\n",
      " - 0s - loss: 2.7776 - acc: 0.1250\n",
      "Epoch 2/100\n",
      " - 0s - loss: 2.7555 - acc: 0.1250\n",
      "Epoch 3/100\n",
      " - 0s - loss: 2.7340 - acc: 0.2500\n",
      "Epoch 4/100\n",
      " - 0s - loss: 2.7129 - acc: 0.2500\n",
      "Epoch 5/100\n",
      " - 0s - loss: 2.6920 - acc: 0.2500\n",
      "Epoch 6/100\n",
      " - 0s - loss: 2.6714 - acc: 0.2500\n",
      "Epoch 7/100\n",
      " - 0s - loss: 2.6509 - acc: 0.3750\n",
      "Epoch 8/100\n",
      " - 0s - loss: 2.6308 - acc: 0.4375\n",
      "Epoch 9/100\n",
      " - 0s - loss: 2.6107 - acc: 0.5625\n",
      "Epoch 10/100\n",
      " - 0s - loss: 2.5906 - acc: 0.6875\n",
      "Epoch 11/100\n",
      " - 0s - loss: 2.5705 - acc: 0.8125\n",
      "Epoch 12/100\n",
      " - 0s - loss: 2.5502 - acc: 0.8750\n",
      "Epoch 13/100\n",
      " - 0s - loss: 2.5296 - acc: 0.8750\n",
      "Epoch 14/100\n",
      " - 0s - loss: 2.5088 - acc: 0.8750\n",
      "Epoch 15/100\n",
      " - 0s - loss: 2.4877 - acc: 0.9375\n",
      "Epoch 16/100\n",
      " - 0s - loss: 2.4662 - acc: 0.9375\n",
      "Epoch 17/100\n",
      " - 0s - loss: 2.4444 - acc: 0.9375\n",
      "Epoch 18/100\n",
      " - 0s - loss: 2.4220 - acc: 0.9375\n",
      "Epoch 19/100\n",
      " - 0s - loss: 2.3989 - acc: 0.9375\n",
      "Epoch 20/100\n",
      " - 0s - loss: 2.3750 - acc: 0.9375\n",
      "Epoch 21/100\n",
      " - 0s - loss: 2.3507 - acc: 0.9375\n",
      "Epoch 22/100\n",
      " - 0s - loss: 2.3259 - acc: 0.9375\n",
      "Epoch 23/100\n",
      " - 0s - loss: 2.3004 - acc: 0.9375\n",
      "Epoch 24/100\n",
      " - 0s - loss: 2.2745 - acc: 0.9375\n",
      "Epoch 25/100\n",
      " - 0s - loss: 2.2480 - acc: 1.0000\n",
      "Epoch 26/100\n",
      " - 0s - loss: 2.2209 - acc: 1.0000\n",
      "Epoch 27/100\n",
      " - 0s - loss: 2.1930 - acc: 1.0000\n",
      "Epoch 28/100\n",
      " - 0s - loss: 2.1641 - acc: 1.0000\n",
      "Epoch 29/100\n",
      " - 0s - loss: 2.1343 - acc: 1.0000\n",
      "Epoch 30/100\n",
      " - 0s - loss: 2.1037 - acc: 1.0000\n",
      "Epoch 31/100\n",
      " - 0s - loss: 2.0722 - acc: 1.0000\n",
      "Epoch 32/100\n",
      " - 0s - loss: 2.0399 - acc: 1.0000\n",
      "Epoch 33/100\n",
      " - 0s - loss: 2.0069 - acc: 1.0000\n",
      "Epoch 34/100\n",
      " - 0s - loss: 1.9731 - acc: 1.0000\n",
      "Epoch 35/100\n",
      " - 0s - loss: 1.9384 - acc: 1.0000\n",
      "Epoch 36/100\n",
      " - 0s - loss: 1.9029 - acc: 1.0000\n",
      "Epoch 37/100\n",
      " - 0s - loss: 1.8666 - acc: 1.0000\n",
      "Epoch 38/100\n",
      " - 0s - loss: 1.8294 - acc: 1.0000\n",
      "Epoch 39/100\n",
      " - 0s - loss: 1.7913 - acc: 1.0000\n",
      "Epoch 40/100\n",
      " - 0s - loss: 1.7526 - acc: 1.0000\n",
      "Epoch 41/100\n",
      " - 0s - loss: 1.7135 - acc: 1.0000\n",
      "Epoch 42/100\n",
      " - 0s - loss: 1.6735 - acc: 1.0000\n",
      "Epoch 43/100\n",
      " - 0s - loss: 1.6329 - acc: 1.0000\n",
      "Epoch 44/100\n",
      " - 0s - loss: 1.5917 - acc: 1.0000\n",
      "Epoch 45/100\n",
      " - 0s - loss: 1.5500 - acc: 1.0000\n",
      "Epoch 46/100\n",
      " - 0s - loss: 1.5078 - acc: 1.0000\n",
      "Epoch 47/100\n",
      " - 0s - loss: 1.4644 - acc: 1.0000\n",
      "Epoch 48/100\n",
      " - 0s - loss: 1.4209 - acc: 1.0000\n",
      "Epoch 49/100\n",
      " - 0s - loss: 1.3770 - acc: 1.0000\n",
      "Epoch 50/100\n",
      " - 0s - loss: 1.3326 - acc: 1.0000\n",
      "Epoch 51/100\n",
      " - 0s - loss: 1.2879 - acc: 1.0000\n",
      "Epoch 52/100\n",
      " - 0s - loss: 1.2430 - acc: 1.0000\n",
      "Epoch 53/100\n",
      " - 0s - loss: 1.1982 - acc: 1.0000\n",
      "Epoch 54/100\n",
      " - 0s - loss: 1.1528 - acc: 1.0000\n",
      "Epoch 55/100\n",
      " - 0s - loss: 1.1078 - acc: 1.0000\n",
      "Epoch 56/100\n",
      " - 0s - loss: 1.0629 - acc: 1.0000\n",
      "Epoch 57/100\n",
      " - 0s - loss: 1.0182 - acc: 1.0000\n",
      "Epoch 58/100\n",
      " - 0s - loss: 0.9739 - acc: 1.0000\n",
      "Epoch 59/100\n",
      " - 0s - loss: 0.9301 - acc: 1.0000\n",
      "Epoch 60/100\n",
      " - 0s - loss: 0.8865 - acc: 1.0000\n",
      "Epoch 61/100\n",
      " - 0s - loss: 0.8439 - acc: 1.0000\n",
      "Epoch 62/100\n",
      " - 0s - loss: 0.8021 - acc: 1.0000\n",
      "Epoch 63/100\n",
      " - 0s - loss: 0.7611 - acc: 1.0000\n",
      "Epoch 64/100\n",
      " - 0s - loss: 0.7209 - acc: 1.0000\n",
      "Epoch 65/100\n",
      " - 0s - loss: 0.6818 - acc: 1.0000\n",
      "Epoch 66/100\n",
      " - 0s - loss: 0.6439 - acc: 1.0000\n",
      "Epoch 67/100\n",
      " - 0s - loss: 0.6072 - acc: 1.0000\n",
      "Epoch 68/100\n",
      " - 0s - loss: 0.5718 - acc: 1.0000\n",
      "Epoch 69/100\n",
      " - 0s - loss: 0.5377 - acc: 1.0000\n",
      "Epoch 70/100\n",
      " - 0s - loss: 0.5051 - acc: 1.0000\n",
      "Epoch 71/100\n",
      " - 0s - loss: 0.4738 - acc: 1.0000\n",
      "Epoch 72/100\n",
      " - 0s - loss: 0.4441 - acc: 1.0000\n",
      "Epoch 73/100\n",
      " - 0s - loss: 0.4159 - acc: 1.0000\n",
      "Epoch 74/100\n",
      " - 0s - loss: 0.3892 - acc: 1.0000\n",
      "Epoch 75/100\n",
      " - 0s - loss: 0.3638 - acc: 1.0000\n",
      "Epoch 76/100\n",
      " - 0s - loss: 0.3400 - acc: 1.0000\n",
      "Epoch 77/100\n",
      " - 0s - loss: 0.3176 - acc: 1.0000\n",
      "Epoch 78/100\n",
      " - 0s - loss: 0.2966 - acc: 1.0000\n",
      "Epoch 79/100\n",
      " - 0s - loss: 0.2770 - acc: 1.0000\n",
      "Epoch 80/100\n",
      " - 0s - loss: 0.2587 - acc: 1.0000\n",
      "Epoch 81/100\n",
      " - 0s - loss: 0.2416 - acc: 1.0000\n",
      "Epoch 82/100\n",
      " - 0s - loss: 0.2257 - acc: 1.0000\n",
      "Epoch 83/100\n",
      " - 0s - loss: 0.2110 - acc: 1.0000\n",
      "Epoch 84/100\n",
      " - 0s - loss: 0.1973 - acc: 1.0000\n",
      "Epoch 85/100\n",
      " - 0s - loss: 0.1847 - acc: 1.0000\n",
      "Epoch 86/100\n",
      " - 0s - loss: 0.1730 - acc: 1.0000\n",
      "Epoch 87/100\n",
      " - 0s - loss: 0.1622 - acc: 1.0000\n",
      "Epoch 88/100\n",
      " - 0s - loss: 0.1522 - acc: 1.0000\n",
      "Epoch 89/100\n",
      " - 0s - loss: 0.1430 - acc: 1.0000\n",
      "Epoch 90/100\n",
      " - 0s - loss: 0.1345 - acc: 1.0000\n",
      "Epoch 91/100\n",
      " - 0s - loss: 0.1266 - acc: 1.0000\n",
      "Epoch 92/100\n",
      " - 0s - loss: 0.1194 - acc: 1.0000\n",
      "Epoch 93/100\n",
      " - 0s - loss: 0.1127 - acc: 1.0000\n",
      "Epoch 94/100\n",
      " - 0s - loss: 0.1065 - acc: 1.0000\n",
      "Epoch 95/100\n",
      " - 0s - loss: 0.1008 - acc: 1.0000\n",
      "Epoch 96/100\n",
      " - 0s - loss: 0.0955 - acc: 1.0000\n",
      "Epoch 97/100\n",
      " - 0s - loss: 0.0906 - acc: 1.0000\n",
      "Epoch 98/100\n",
      " - 0s - loss: 0.0861 - acc: 1.0000\n",
      "Epoch 99/100\n",
      " - 0s - loss: 0.0819 - acc: 1.0000\n",
      "Epoch 100/100\n",
      " - 0s - loss: 0.0781 - acc: 1.0000\n"
     ]
    },
    {
     "data": {
      "text/plain": [
       "<keras.callbacks.History at 0x10f82518>"
      ]
     },
     "execution_count": 60,
     "metadata": {},
     "output_type": "execute_result"
    }
   ],
   "source": [
    "# train the model\n",
    "model.fit( X_train,\n",
    "    y_train,\n",
    "    epochs=100,\n",
    "    shuffle=True,\n",
    "    verbose=2\n",
    ")"
   ]
  },
  {
   "cell_type": "code",
   "execution_count": 62,
   "metadata": {},
   "outputs": [
    {
     "name": "stdout",
     "output_type": "stream",
     "text": [
      "Loss: 0.07685241103172302, Accuracy: 1.0\n"
     ]
    }
   ],
   "source": [
    "model_loss, model_accuracy = model.evaluate(X_train[[2,5,8],:], y_train[[2,5,8],:], verbose=2)\n",
    "print(f\"Loss: {model_loss}, Accuracy: {model_accuracy}\")"
   ]
  },
  {
   "cell_type": "code",
   "execution_count": 86,
   "metadata": {},
   "outputs": [],
   "source": [
    "test = np.expand_dims(X_train[0], axis=0)\n",
    "test.shape\n",
    "# model.predict(X_train[1,:], axis=0)\n",
    "# X_train[1,:]\n",
    "res = model.predict(test)"
   ]
  },
  {
   "cell_type": "code",
   "execution_count": 92,
   "metadata": {},
   "outputs": [
    {
     "data": {
      "image/png": "[encoded data removed]",
      "text/plain": [
       "<Figure size 432x288 with 2 Axes>"
      ]
     },
     "metadata": {},
     "output_type": "display_data"
    }
   ],
   "source": [
    "plt.imshow(res.reshape(4,4))\n",
    "plt.colorbar()\n",
    "plt.show()"
   ]
  },
  {
   "cell_type": "code",
   "execution_count": null,
   "metadata": {},
   "outputs": [],
   "source": [
    "# Now let's use one of the random images, split it up into one pixel images and predict the mangled result\n",
    "# then, by going"
   ]
  },
  {
   "cell_type": "code",
   "execution_count": null,
   "metadata": {},
   "outputs": [],
   "source": []
  },
  {
   "cell_type": "code",
   "execution_count": null,
   "metadata": {},
   "outputs": [],
   "source": []
  },
  {
   "cell_type": "code",
   "execution_count": null,
   "metadata": {},
   "outputs": [],
   "source": []
  },
  {
   "cell_type": "code",
   "execution_count": null,
   "metadata": {},
   "outputs": [],
   "source": []
  },
  {
   "cell_type": "code",
   "execution_count": null,
   "metadata": {},
   "outputs": [],
   "source": []
  },
  {
   "cell_type": "code",
   "execution_count": null,
   "metadata": {},
   "outputs": [],
   "source": []
  },
  {
   "cell_type": "code",
   "execution_count": null,
   "metadata": {},
   "outputs": [],
   "source": []
  },
  {
   "cell_type": "code",
   "execution_count": null,
   "metadata": {},
   "outputs": [],
   "source": []
  },
  {
   "cell_type": "code",
   "execution_count": null,
   "metadata": {},
   "outputs": [],
   "source": []
  },
  {
   "cell_type": "code",
   "execution_count": null,
   "metadata": {},
   "outputs": [],
   "source": []
  },
  {
   "cell_type": "code",
   "execution_count": 244,
   "metadata": {},
   "outputs": [
    {
     "name": "stdout",
     "output_type": "stream",
     "text": [
      "(420, 16)\n",
      "(180, 16)\n"
     ]
    },
    {
     "data": {
      "image/png": "[encoded data removed]",
      "text/plain": [
       "<Figure size 576x576 with 4 Axes>"
      ]
     },
     "metadata": {},
     "output_type": "display_data"
    }
   ],
   "source": [
    "train_idx = np.sort(random.sample(range(1, nb_sample), round(0.7*nb_sample)))\n",
    "\n",
    "X_train = Mreal_tab[train_idx]\n",
    "X_test = np.delete(Mreal_tab, train_idx, 0)\n",
    "\n",
    "y_train = Mstar_tab[train_idx]\n",
    "y_test =np.delete(Mstar_tab, train_idx, 0)\n",
    "\n",
    "\n",
    "print(X_train.shape)\n",
    "print(X_test.shape)\n",
    "\n",
    "# df2 = data.drop_duplicates()\n",
    "# df2.count()\n",
    "n = 30\n",
    "vis_matrices(X_train[n,:].reshape(nbpix,nbpix), X_train[n,:].reshape(nbpix,nbpix)@P, y_train[n,:].reshape(nbpix,nbpix), P)"
   ]
  },
  {
   "cell_type": "markdown",
   "metadata": {},
   "source": [
    "- an artificial feed-forward-type multi-layer neural network configured, e.g., using the Error-Backpropagation algorithm; \n",
    "- a Hopfield-type Attractor neural network configured with, e.g., the Projection Rule or the Pseudoinverse algorithm; \n",
    "- and/or a recurrent neural network trained, e.g., with algo rithms such as Real-Time Recurrent Learning algorithm and the Time-Dependent Recurrent Backpropagation to determine a vision solution. "
   ]
  },
  {
   "cell_type": "code",
   "execution_count": 245,
   "metadata": {},
   "outputs": [
    {
     "name": "stderr",
     "output_type": "stream",
     "text": [
      "C:\\Users\\MariO\\Anaconda3\\lib\\site-packages\\h5py\\__init__.py:36: FutureWarning: Conversion of the second argument of issubdtype from `float` to `np.floating` is deprecated. In future, it will be treated as `np.float64 == np.dtype(float).type`.\n",
      "  from ._conv import register_converters as _register_converters\n",
      "Using TensorFlow backend.\n"
     ]
    }
   ],
   "source": []
  },
  {
   "cell_type": "code",
   "execution_count": 246,
   "metadata": {},
   "outputs": [],
   "source": [
    "# df_train = data.sample(0.8)\n",
    "# df_test = data.sample(2000)\n",
    "model = Sequential()"
   ]
  },
  {
   "cell_type": "code",
   "execution_count": 249,
   "metadata": {},
   "outputs": [],
   "source": [
    "# first hiden layer\n"
   ]
  },
  {
   "cell_type": "code",
   "execution_count": null,
   "metadata": {},
   "outputs": [],
   "source": []
  }
 ],
 "metadata": {
  "kernelspec": {
   "display_name": "Python 3",
   "language": "python",
   "name": "python3"
  },
  "language_info": {
   "codemirror_mode": {
    "name": "ipython",
    "version": 3
   },
   "file_extension": ".py",
   "mimetype": "text/x-python",
   "name": "python",
   "nbconvert_exporter": "python",
   "pygments_lexer": "ipython3",
   "version": "3.6.5"
  }
 },
 "nbformat": 4,
 "nbformat_minor": 2
}
