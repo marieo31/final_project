{
 "cells": [
  {
   "cell_type": "code",
   "execution_count": 1,
   "metadata": {},
   "outputs": [],
   "source": [
    "import numpy as np\n",
    "import pandas as pd\n",
    "import matplotlib.pyplot as plt\n",
    "import matplotlib as mpl\n",
    "from sklearn import tree\n",
    "import os\n",
    "import random\n",
    "\n",
    "mpl.rc('image', cmap='gray_r')"
   ]
  },
  {
   "cell_type": "code",
   "execution_count": 66,
   "metadata": {},
   "outputs": [
    {
     "data": {
      "text/plain": [
       "array([[0, 0, 1, 0],\n",
       "       [0, 0, 0, 1],\n",
       "       [1, 0, 0, 0],\n",
       "       [0, 1, 0, 0]])"
      ]
     },
     "execution_count": 66,
     "metadata": {},
     "output_type": "execute_result"
    }
   ],
   "source": [
    "# Transformation matrices\n",
    "P = np.array([[0, 0, 0, 1],\n",
    "              [1, 0, 0, 0],\n",
    "              [0, 1, 0, 0],\n",
    "              [0, 0, 1, 0]])\n",
    "Pstar = np.array([[0, 1, 0, 0],\n",
    "                  [0, 0, 1, 0],\n",
    "                  [0, 0, 0, 1],\n",
    "                  [1, 0, 0, 0]])\n",
    "P@P"
   ]
  },
  {
   "cell_type": "code",
   "execution_count": 3,
   "metadata": {},
   "outputs": [],
   "source": [
    "# real image\n",
    "Mreal = np.array([[0, 0, 0, 0],\n",
    "                  [0, 1, 1, 0],\n",
    "                  [0, 1, 1, 0],\n",
    "                  [0, 1, 1, 0]])\n",
    "Mreal = np.ones((4,4)) - Mreal\n",
    "# distorted image\n",
    "Mmang = Mreal@P\n",
    "\n",
    "# corrected input\n",
    "Mstar = Mreal@Pstar\n",
    "\n",
    "# np.linalg.det(Mreal)"
   ]
  },
  {
   "cell_type": "code",
   "execution_count": 4,
   "metadata": {
    "scrolled": false
   },
   "outputs": [
    {
     "data": {
      "image/png": "[encoded data removed]",
      "text/plain": [
       "<Figure size 576x576 with 4 Axes>"
      ]
     },
     "metadata": {},
     "output_type": "display_data"
    }
   ],
   "source": [
    "# plt.figure(1)\n",
    "def vis_matrices(Mr, Mm, Mst, P):\n",
    "    if Mr.shape[0]==1:\n",
    "        Mr = Mr.reshape(int(np.sqrt(Mr.shape[1])), int(np.sqrt(Mr.shape[1])))\n",
    "        Mm = Mm.reshape(int(np.sqrt(Mm.shape[1])), int(np.sqrt(Mm.shape[1])))\n",
    "        Mst = Mst.reshape(int(np.sqrt(Mst.shape[1])), int(np.sqrt(Mst.shape[1])))\n",
    "    \n",
    "    fig, (ax1,ax2) = plt.subplots(nrows=2,ncols=2) #, squeeze=True, sharey=True)\n",
    "    fig.set_size_inches(8,8)\n",
    "\n",
    "    plt.sca(ax1[0])\n",
    "    plt.imshow(Mr)\n",
    "    plt.title(\"Real image\")\n",
    "\n",
    "    plt.sca(ax2[0])\n",
    "    plt.imshow(Mm)\n",
    "    plt.title(\"Distorted image\")\n",
    "\n",
    "    plt.sca(ax1[1])\n",
    "    plt.imshow(Mst)\n",
    "    plt.title(\"Corrected input\")\n",
    "\n",
    "    plt.sca(ax2[1])\n",
    "    plt.imshow(Mst@P)\n",
    "    plt.title(\"Corrected visualization\")\n",
    "vis_matrices(Mreal, Mmang, Mstar, P)"
   ]
  },
  {
   "cell_type": "code",
   "execution_count": 5,
   "metadata": {},
   "outputs": [],
   "source": [
    "# Define the randomization criteria\n",
    "# proportions of one and zeros in the random matrices\n",
    "cut = np.linspace(0.3,0.8,6)\n",
    "nbpix = 4\n",
    "nb_per_cut = 100\n",
    "nb_cut = len(cut)\n",
    "nb_sample = nb_per_cut*nb_cut"
   ]
  },
  {
   "cell_type": "code",
   "execution_count": 6,
   "metadata": {},
   "outputs": [
    {
     "data": {
      "text/plain": [
       "array([[1, 1, 1, 1],\n",
       "       [0, 0, 1, 0],\n",
       "       [1, 1, 1, 1],\n",
       "       [1, 1, 1, 1]])"
      ]
     },
     "execution_count": 6,
     "metadata": {},
     "output_type": "execute_result"
    }
   ],
   "source": [
    "np.random.choice([0, 1], size=(nbpix,nbpix), p=[ 1-cut[5], cut[5]])"
   ]
  },
  {
   "cell_type": "code",
   "execution_count": 7,
   "metadata": {},
   "outputs": [
    {
     "name": "stdout",
     "output_type": "stream",
     "text": [
      "0.3\n",
      "0.4\n",
      "0.5\n",
      "0.6000000000000001\n",
      "0.7\n",
      "0.8\n"
     ]
    }
   ],
   "source": [
    "# generating the dataset\n",
    "Mreal_tab = np.zeros((len(cut)*nb_per_cut,nbpix*nbpix))\n",
    "Mmang_tab = np.zeros((len(cut)*nb_per_cut,nbpix*nbpix))\n",
    "Mstar_tab = np.zeros((len(cut)*nb_per_cut,nbpix*nbpix))\n",
    "\n",
    "Mreal_tab = np.zeros((len(cut)*nb_per_cut,nbpix*nbpix))\n",
    "Mmang_tab = np.zeros((len(cut)*nb_per_cut,nbpix*nbpix))\n",
    "Mstar_tab = np.zeros((len(cut)*nb_per_cut,nbpix*nbpix))\n",
    "\n",
    "Mreal_list = []\n",
    "Mmang_list = []\n",
    "Mstar_list = []\n",
    "jj = 0\n",
    "for cc in cut:    \n",
    "    print(cc)\n",
    "    ii = 0\n",
    "    while ii < nb_per_cut:\n",
    "        temp_Mreal = np.random.choice([0, 1], size=(nbpix,nbpix), p=[ 1-cc, cc])\n",
    "#         print(temp_Mreal)\n",
    "#         print(ii)\n",
    "        Mreal_tab[jj,:] = temp_Mreal.reshape(1,nbpix**2)\n",
    "        Mmang_tab[jj,:] = (temp_Mreal@P).reshape(1,nbpix**2)\n",
    "        Mstar_tab[jj,:] = (temp_Mreal@Pstar).reshape(1,nbpix**2)\n",
    "        Mreal_list.append((temp_Mreal).reshape(1,nbpix**2))\n",
    "        Mmang_list.append((temp_Mreal@P).reshape(1,nbpix**2))\n",
    "        Mstar_list.append((temp_Mreal@Pstar).reshape(1,nbpix**2))\n",
    "        ii += 1\n",
    "        jj += 1"
   ]
  },
  {
   "cell_type": "code",
   "execution_count": 8,
   "metadata": {},
   "outputs": [
    {
     "data": {
      "text/plain": [
       "array([1., 0., 0., 1., 1., 1., 1., 0., 1., 1., 0., 1., 0., 0., 0., 0.])"
      ]
     },
     "execution_count": 8,
     "metadata": {},
     "output_type": "execute_result"
    }
   ],
   "source": [
    "type(Mreal_tab)\n",
    "Mreal_tab[0]"
   ]
  },
  {
   "cell_type": "code",
   "execution_count": 9,
   "metadata": {},
   "outputs": [
    {
     "name": "stdout",
     "output_type": "stream",
     "text": [
      "[0. 1. 1. 0. 1. 1. 1. 1. 0. 1. 1. 1. 1. 1. 0. 1.]\n"
     ]
    },
    {
     "data": {
      "image/png": "[encoded data removed]",
      "text/plain": [
       "<Figure size 576x576 with 4 Axes>"
      ]
     },
     "metadata": {},
     "output_type": "display_data"
    }
   ],
   "source": [
    "n = 540\n",
    "print(Mreal_tab[n,:])\n",
    "vis_matrices(Mreal_tab[n,:].reshape(nbpix,nbpix), Mmang_tab[n,:].reshape(nbpix,nbpix), Mstar_tab[n,:].reshape(nbpix,nbpix), P)"
   ]
  },
  {
   "cell_type": "code",
   "execution_count": 10,
   "metadata": {},
   "outputs": [
    {
     "data": {
      "text/plain": [
       "real    600\n",
       "mang    600\n",
       "star    600\n",
       "dtype: int64"
      ]
     },
     "execution_count": 10,
     "metadata": {},
     "output_type": "execute_result"
    }
   ],
   "source": [
    "data = pd.DataFrame({\"real\":Mreal_list,\n",
    "                    \"mang\": Mmang_list,\n",
    "                    \"star\": Mstar_list})\n",
    "data.head()\n",
    "data.count()"
   ]
  },
  {
   "cell_type": "code",
   "execution_count": 11,
   "metadata": {},
   "outputs": [],
   "source": [
    "# let's try to train the model with only one pixel on each figure. \n",
    "# then we can use categorical for the result: the cqtegory being the position of the pixel.\n",
    "# input a grid, output a position between one to 16\n",
    "\n",
    "# Generating the training data.\n",
    "idx = range(0,nbpix**2,1)\n",
    "\n",
    "Mreal_tab = np.zeros((len(idx),nbpix*nbpix))\n",
    "Mmang_tab = np.zeros((len(idx),nbpix*nbpix))\n",
    "Mstar_tab = np.zeros((len(idx),nbpix*nbpix))\n",
    "\n",
    "for ii in idx:\n",
    "    Mreal_tab[ii,ii] = 1\n",
    "    Mmang_tab[ii,:] = (Mreal_tab[ii,:].reshape(nbpix,nbpix)@P).reshape(1,nbpix**2)\n",
    "    Mstar_tab[ii,:] = (Mreal_tab[ii,:].reshape(nbpix,nbpix)@Pstar).reshape(1,nbpix**2)\n",
    "\n",
    "    "
   ]
  },
  {
   "cell_type": "code",
   "execution_count": 12,
   "metadata": {},
   "outputs": [
    {
     "data": {
      "image/png": "[encoded data removed]",
      "text/plain": [
       "<Figure size 576x576 with 4 Axes>"
      ]
     },
     "metadata": {},
     "output_type": "display_data"
    }
   ],
   "source": [
    "n = 0\n",
    "vis_matrices(Mreal_tab[n,:].reshape(nbpix,nbpix), Mmang_tab[n,:].reshape(nbpix,nbpix), Mstar_tab[n,:].reshape(nbpix,nbpix), P)    "
   ]
  },
  {
   "cell_type": "code",
   "execution_count": 15,
   "metadata": {},
   "outputs": [
    {
     "name": "stderr",
     "output_type": "stream",
     "text": [
      "C:\\Users\\MariO\\Anaconda3\\lib\\site-packages\\h5py\\__init__.py:36: FutureWarning: Conversion of the second argument of issubdtype from `float` to `np.floating` is deprecated. In future, it will be treated as `np.float64 == np.dtype(float).type`.\n",
      "  from ._conv import register_converters as _register_converters\n",
      "Using TensorFlow backend.\n"
     ]
    }
   ],
   "source": [
    "from keras.models import Sequential\n",
    "from keras.utils import to_categorical\n",
    "from keras.layers import Dense\n",
    "from keras.datasets import mnist"
   ]
  },
  {
   "cell_type": "code",
   "execution_count": 16,
   "metadata": {},
   "outputs": [],
   "source": [
    "# the training input will the matrix of the real images with one pixel\n",
    "X_train = Mreal_tab"
   ]
  },
  {
   "cell_type": "code",
   "execution_count": 17,
   "metadata": {},
   "outputs": [
    {
     "data": {
      "text/plain": [
       "array([[0., 0., 0., 1., 0., 0., 0., 0., 0., 0., 0., 0., 0., 0., 0., 0.],\n",
       "       [1., 0., 0., 0., 0., 0., 0., 0., 0., 0., 0., 0., 0., 0., 0., 0.],\n",
       "       [0., 1., 0., 0., 0., 0., 0., 0., 0., 0., 0., 0., 0., 0., 0., 0.],\n",
       "       [0., 0., 1., 0., 0., 0., 0., 0., 0., 0., 0., 0., 0., 0., 0., 0.],\n",
       "       [0., 0., 0., 0., 0., 0., 0., 1., 0., 0., 0., 0., 0., 0., 0., 0.],\n",
       "       [0., 0., 0., 0., 1., 0., 0., 0., 0., 0., 0., 0., 0., 0., 0., 0.],\n",
       "       [0., 0., 0., 0., 0., 1., 0., 0., 0., 0., 0., 0., 0., 0., 0., 0.],\n",
       "       [0., 0., 0., 0., 0., 0., 1., 0., 0., 0., 0., 0., 0., 0., 0., 0.],\n",
       "       [0., 0., 0., 0., 0., 0., 0., 0., 0., 0., 0., 1., 0., 0., 0., 0.],\n",
       "       [0., 0., 0., 0., 0., 0., 0., 0., 1., 0., 0., 0., 0., 0., 0., 0.],\n",
       "       [0., 0., 0., 0., 0., 0., 0., 0., 0., 1., 0., 0., 0., 0., 0., 0.],\n",
       "       [0., 0., 0., 0., 0., 0., 0., 0., 0., 0., 1., 0., 0., 0., 0., 0.],\n",
       "       [0., 0., 0., 0., 0., 0., 0., 0., 0., 0., 0., 0., 0., 0., 0., 1.],\n",
       "       [0., 0., 0., 0., 0., 0., 0., 0., 0., 0., 0., 0., 1., 0., 0., 0.],\n",
       "       [0., 0., 0., 0., 0., 0., 0., 0., 0., 0., 0., 0., 0., 1., 0., 0.],\n",
       "       [0., 0., 0., 0., 0., 0., 0., 0., 0., 0., 0., 0., 0., 0., 1., 0.]],\n",
       "      dtype=float32)"
      ]
     },
     "execution_count": 17,
     "metadata": {},
     "output_type": "execute_result"
    }
   ],
   "source": [
    "# the training output will be the category corresponding to the position of the pixel in the mangled image\n",
    "y_train = [np.where(Mmang_tab[ii,:]==1)[0].item(0) for ii in idx]\n",
    "y_train = to_categorical(y_train, nbpix**2)\n",
    "y_train\n",
    "\n"
   ]
  },
  {
   "cell_type": "code",
   "execution_count": null,
   "metadata": {},
   "outputs": [],
   "source": []
  },
  {
   "cell_type": "code",
   "execution_count": 18,
   "metadata": {},
   "outputs": [],
   "source": [
    "# creating the model\n",
    "model = Sequential()\n",
    "model.add(Dense(100, activation='relu', input_dim=nbpix**2))\n",
    "model.add(Dense(100, activation='relu'))\n",
    "model.add(Dense(nbpix**2, activation='softmax'))"
   ]
  },
  {
   "cell_type": "code",
   "execution_count": 19,
   "metadata": {},
   "outputs": [],
   "source": [
    "# Compile the model\n",
    "model.compile(loss=\"categorical_crossentropy\",\n",
    "              optimizer=\"adam\", metrics=['accuracy'])"
   ]
  },
  {
   "cell_type": "code",
   "execution_count": 20,
   "metadata": {},
   "outputs": [
    {
     "name": "stdout",
     "output_type": "stream",
     "text": [
      "_________________________________________________________________\n",
      "Layer (type)                 Output Shape              Param #   \n",
      "=================================================================\n",
      "dense_1 (Dense)              (None, 100)               1700      \n",
      "_________________________________________________________________\n",
      "dense_2 (Dense)              (None, 100)               10100     \n",
      "_________________________________________________________________\n",
      "dense_3 (Dense)              (None, 16)                1616      \n",
      "=================================================================\n",
      "Total params: 13,416\n",
      "Trainable params: 13,416\n",
      "Non-trainable params: 0\n",
      "_________________________________________________________________\n"
     ]
    }
   ],
   "source": [
    "model.summary()"
   ]
  },
  {
   "cell_type": "code",
   "execution_count": 21,
   "metadata": {},
   "outputs": [
    {
     "name": "stdout",
     "output_type": "stream",
     "text": [
      "Epoch 1/100\n",
      " - 0s - loss: 2.7723 - acc: 0.0625\n",
      "Epoch 2/100\n",
      " - 0s - loss: 2.7520 - acc: 0.0625\n",
      "Epoch 3/100\n",
      " - 0s - loss: 2.7321 - acc: 0.0625\n",
      "Epoch 4/100\n",
      " - 0s - loss: 2.7126 - acc: 0.1250\n",
      "Epoch 5/100\n",
      " - 0s - loss: 2.6935 - acc: 0.1875\n",
      "Epoch 6/100\n",
      " - 0s - loss: 2.6745 - acc: 0.3125\n",
      "Epoch 7/100\n",
      " - 0s - loss: 2.6556 - acc: 0.4375\n",
      "Epoch 8/100\n",
      " - 0s - loss: 2.6367 - acc: 0.5000\n",
      "Epoch 9/100\n",
      " - 0s - loss: 2.6179 - acc: 0.5625\n",
      "Epoch 10/100\n",
      " - 0s - loss: 2.5991 - acc: 0.7500\n",
      "Epoch 11/100\n",
      " - 0s - loss: 2.5802 - acc: 0.9375\n",
      "Epoch 12/100\n",
      " - 0s - loss: 2.5612 - acc: 0.9375\n",
      "Epoch 13/100\n",
      " - 0s - loss: 2.5418 - acc: 0.9375\n",
      "Epoch 14/100\n",
      " - 0s - loss: 2.5220 - acc: 0.9375\n",
      "Epoch 15/100\n",
      " - 0s - loss: 2.5017 - acc: 0.9375\n",
      "Epoch 16/100\n",
      " - 0s - loss: 2.4810 - acc: 1.0000\n",
      "Epoch 17/100\n",
      " - 0s - loss: 2.4600 - acc: 1.0000\n",
      "Epoch 18/100\n",
      " - 0s - loss: 2.4386 - acc: 1.0000\n",
      "Epoch 19/100\n",
      " - 0s - loss: 2.4168 - acc: 1.0000\n",
      "Epoch 20/100\n",
      " - 0s - loss: 2.3944 - acc: 1.0000\n",
      "Epoch 21/100\n",
      " - 0s - loss: 2.3714 - acc: 1.0000\n",
      "Epoch 22/100\n",
      " - 0s - loss: 2.3478 - acc: 1.0000\n",
      "Epoch 23/100\n",
      " - 0s - loss: 2.3237 - acc: 1.0000\n",
      "Epoch 24/100\n",
      " - 0s - loss: 2.2989 - acc: 1.0000\n",
      "Epoch 25/100\n",
      " - 0s - loss: 2.2735 - acc: 1.0000\n",
      "Epoch 26/100\n",
      " - 0s - loss: 2.2475 - acc: 1.0000\n",
      "Epoch 27/100\n",
      " - 0s - loss: 2.2206 - acc: 1.0000\n",
      "Epoch 28/100\n",
      " - 0s - loss: 2.1930 - acc: 1.0000\n",
      "Epoch 29/100\n",
      " - 0s - loss: 2.1648 - acc: 1.0000\n",
      "Epoch 30/100\n",
      " - 0s - loss: 2.1355 - acc: 1.0000\n",
      "Epoch 31/100\n",
      " - 0s - loss: 2.1056 - acc: 1.0000\n",
      "Epoch 32/100\n",
      " - 0s - loss: 2.0748 - acc: 1.0000\n",
      "Epoch 33/100\n",
      " - 0s - loss: 2.0431 - acc: 1.0000\n",
      "Epoch 34/100\n",
      " - 0s - loss: 2.0107 - acc: 1.0000\n",
      "Epoch 35/100\n",
      " - 0s - loss: 1.9775 - acc: 1.0000\n",
      "Epoch 36/100\n",
      " - 0s - loss: 1.9435 - acc: 1.0000\n",
      "Epoch 37/100\n",
      " - 0s - loss: 1.9086 - acc: 1.0000\n",
      "Epoch 38/100\n",
      " - 0s - loss: 1.8729 - acc: 1.0000\n",
      "Epoch 39/100\n",
      " - 0s - loss: 1.8363 - acc: 1.0000\n",
      "Epoch 40/100\n",
      " - 0s - loss: 1.7989 - acc: 1.0000\n",
      "Epoch 41/100\n",
      " - 0s - loss: 1.7607 - acc: 1.0000\n",
      "Epoch 42/100\n",
      " - 0s - loss: 1.7217 - acc: 1.0000\n",
      "Epoch 43/100\n",
      " - 0s - loss: 1.6819 - acc: 1.0000\n",
      "Epoch 44/100\n",
      " - 0s - loss: 1.6415 - acc: 1.0000\n",
      "Epoch 45/100\n",
      " - 0s - loss: 1.6004 - acc: 1.0000\n",
      "Epoch 46/100\n",
      " - 0s - loss: 1.5585 - acc: 1.0000\n",
      "Epoch 47/100\n",
      " - 0s - loss: 1.5159 - acc: 1.0000\n",
      "Epoch 48/100\n",
      " - 0s - loss: 1.4729 - acc: 1.0000\n",
      "Epoch 49/100\n",
      " - 0s - loss: 1.4293 - acc: 1.0000\n",
      "Epoch 50/100\n",
      " - 0s - loss: 1.3851 - acc: 1.0000\n",
      "Epoch 51/100\n",
      " - 0s - loss: 1.3405 - acc: 1.0000\n",
      "Epoch 52/100\n",
      " - 0s - loss: 1.2956 - acc: 1.0000\n",
      "Epoch 53/100\n",
      " - 0s - loss: 1.2505 - acc: 1.0000\n",
      "Epoch 54/100\n",
      " - 0s - loss: 1.2052 - acc: 1.0000\n",
      "Epoch 55/100\n",
      " - 0s - loss: 1.1598 - acc: 1.0000\n",
      "Epoch 56/100\n",
      " - 0s - loss: 1.1143 - acc: 1.0000\n",
      "Epoch 57/100\n",
      " - 0s - loss: 1.0690 - acc: 1.0000\n",
      "Epoch 58/100\n",
      " - 0s - loss: 1.0239 - acc: 1.0000\n",
      "Epoch 59/100\n",
      " - 0s - loss: 0.9790 - acc: 1.0000\n",
      "Epoch 60/100\n",
      " - 0s - loss: 0.9346 - acc: 1.0000\n",
      "Epoch 61/100\n",
      " - 0s - loss: 0.8905 - acc: 1.0000\n",
      "Epoch 62/100\n",
      " - 0s - loss: 0.8473 - acc: 1.0000\n",
      "Epoch 63/100\n",
      " - 0s - loss: 0.8048 - acc: 1.0000\n",
      "Epoch 64/100\n",
      " - 0s - loss: 0.7633 - acc: 1.0000\n",
      "Epoch 65/100\n",
      " - 0s - loss: 0.7226 - acc: 1.0000\n",
      "Epoch 66/100\n",
      " - 0s - loss: 0.6831 - acc: 1.0000\n",
      "Epoch 67/100\n",
      " - 0s - loss: 0.6446 - acc: 1.0000\n",
      "Epoch 68/100\n",
      " - 0s - loss: 0.6073 - acc: 1.0000\n",
      "Epoch 69/100\n",
      " - 0s - loss: 0.5714 - acc: 1.0000\n",
      "Epoch 70/100\n",
      " - 0s - loss: 0.5369 - acc: 1.0000\n",
      "Epoch 71/100\n",
      " - 0s - loss: 0.5039 - acc: 1.0000\n",
      "Epoch 72/100\n",
      " - 0s - loss: 0.4724 - acc: 1.0000\n",
      "Epoch 73/100\n",
      " - 0s - loss: 0.4423 - acc: 1.0000\n",
      "Epoch 74/100\n",
      " - 0s - loss: 0.4139 - acc: 1.0000\n",
      "Epoch 75/100\n",
      " - 0s - loss: 0.3869 - acc: 1.0000\n",
      "Epoch 76/100\n",
      " - 0s - loss: 0.3614 - acc: 1.0000\n",
      "Epoch 77/100\n",
      " - 0s - loss: 0.3375 - acc: 1.0000\n",
      "Epoch 78/100\n",
      " - 0s - loss: 0.3149 - acc: 1.0000\n",
      "Epoch 79/100\n",
      " - 0s - loss: 0.2938 - acc: 1.0000\n",
      "Epoch 80/100\n",
      " - 0s - loss: 0.2742 - acc: 1.0000\n",
      "Epoch 81/100\n",
      " - 0s - loss: 0.2559 - acc: 1.0000\n",
      "Epoch 82/100\n",
      " - 0s - loss: 0.2388 - acc: 1.0000\n",
      "Epoch 83/100\n",
      " - 0s - loss: 0.2230 - acc: 1.0000\n",
      "Epoch 84/100\n",
      " - 0s - loss: 0.2083 - acc: 1.0000\n",
      "Epoch 85/100\n",
      " - 0s - loss: 0.1947 - acc: 1.0000\n",
      "Epoch 86/100\n",
      " - 0s - loss: 0.1821 - acc: 1.0000\n",
      "Epoch 87/100\n",
      " - 0s - loss: 0.1705 - acc: 1.0000\n",
      "Epoch 88/100\n",
      " - 0s - loss: 0.1598 - acc: 1.0000\n",
      "Epoch 89/100\n",
      " - 0s - loss: 0.1500 - acc: 1.0000\n",
      "Epoch 90/100\n",
      " - 0s - loss: 0.1408 - acc: 1.0000\n",
      "Epoch 91/100\n",
      " - 0s - loss: 0.1324 - acc: 1.0000\n",
      "Epoch 92/100\n",
      " - 0s - loss: 0.1247 - acc: 1.0000\n",
      "Epoch 93/100\n",
      " - 0s - loss: 0.1176 - acc: 1.0000\n",
      "Epoch 94/100\n",
      " - 0s - loss: 0.1110 - acc: 1.0000\n",
      "Epoch 95/100\n",
      " - 0s - loss: 0.1049 - acc: 1.0000\n",
      "Epoch 96/100\n",
      " - 0s - loss: 0.0993 - acc: 1.0000\n",
      "Epoch 97/100\n",
      " - 0s - loss: 0.0941 - acc: 1.0000\n",
      "Epoch 98/100\n",
      " - 0s - loss: 0.0893 - acc: 1.0000\n",
      "Epoch 99/100\n",
      " - 0s - loss: 0.0849 - acc: 1.0000\n",
      "Epoch 100/100\n",
      " - 0s - loss: 0.0808 - acc: 1.0000\n"
     ]
    },
    {
     "data": {
      "text/plain": [
       "<keras.callbacks.History at 0xf8a58d0>"
      ]
     },
     "execution_count": 21,
     "metadata": {},
     "output_type": "execute_result"
    }
   ],
   "source": [
    "# train the model\n",
    "model.fit( X_train,\n",
    "    y_train,\n",
    "    epochs=100,\n",
    "    shuffle=True,\n",
    "    verbose=2\n",
    ")"
   ]
  },
  {
   "cell_type": "code",
   "execution_count": 22,
   "metadata": {},
   "outputs": [
    {
     "name": "stdout",
     "output_type": "stream",
     "text": [
      "Loss: 0.07463479042053223, Accuracy: 1.0\n"
     ]
    }
   ],
   "source": [
    "model_loss, model_accuracy = model.evaluate(X_train[[2,5,8],:], y_train[[2,5,8],:], verbose=2)\n",
    "print(f\"Loss: {model_loss}, Accuracy: {model_accuracy}\")"
   ]
  },
  {
   "cell_type": "code",
   "execution_count": 30,
   "metadata": {},
   "outputs": [
    {
     "name": "stdout",
     "output_type": "stream",
     "text": [
      "[1. 0. 0. 0. 0. 0. 0. 0. 0. 0. 0. 0. 0. 0. 0. 0.]\n",
      "(1, 16)\n"
     ]
    }
   ],
   "source": [
    "test = np.expand_dims(X_train[0], axis=0)\n",
    "print(X_train[0])\n",
    "print(test.shape)\n",
    "res = model.predict(test)"
   ]
  },
  {
   "cell_type": "code",
   "execution_count": 24,
   "metadata": {},
   "outputs": [
    {
     "data": {
      "image/png": "[encoded data removed]",
      "text/plain": [
       "<Figure size 432x288 with 2 Axes>"
      ]
     },
     "metadata": {},
     "output_type": "display_data"
    }
   ],
   "source": [
    "plt.imshow(res.reshape(4,4))\n",
    "plt.colorbar()\n",
    "plt.show()"
   ]
  },
  {
   "cell_type": "code",
   "execution_count": 27,
   "metadata": {},
   "outputs": [
    {
     "data": {
      "image/png": "[encoded data removed]",
      "text/plain": [
       "<Figure size 576x576 with 4 Axes>"
      ]
     },
     "metadata": {},
     "output_type": "display_data"
    }
   ],
   "source": [
    "# Now let's use one of the random images, split it up into one pixel images and predict the mangled result\n",
    "# then, we find the transformation matrix and invert it and tadaaaaa!\n",
    "cut = 0.4\n",
    "Mreal = np.random.choice([0, 1], size=(nbpix,nbpix), p=[ 1-cut, cut])\n",
    "Mmang = Mreal@P\n",
    "Mstar = Mreal@Pstar\n",
    "vis_matrices(Mreal, Mmang, Mstar, P)"
   ]
  },
  {
   "cell_type": "code",
   "execution_count": 47,
   "metadata": {},
   "outputs": [
    {
     "name": "stdout",
     "output_type": "stream",
     "text": [
      "(1, 16)\n"
     ]
    },
    {
     "data": {
      "image/png": "[encoded data removed]",
      "text/plain": [
       "<Figure size 432x288 with 2 Axes>"
      ]
     },
     "metadata": {},
     "output_type": "display_data"
    }
   ],
   "source": [
    "# let's try to use directly the trained model\n",
    "test = np.expand_dims(Mreal.reshape(1,nbpix**2)[0], axis=0)\n",
    "print(test.shape)\n",
    "res = model.predict(test)\n",
    "plt.imshow(res.reshape(4,4))\n",
    "plt.colorbar()\n",
    "plt.show()"
   ]
  },
  {
   "cell_type": "code",
   "execution_count": 90,
   "metadata": {},
   "outputs": [],
   "source": [
    "# let's split the Mreal matrix into n matrices of one pixel\n",
    "def add_one(arr,index):\n",
    "    arr[0,index] = 1\n",
    "    return arr\n",
    "# find the indexes of the ones values in the matrix\n",
    "idx_arr = np.where(Mreal.reshape(1,nbpix**2)[0]==1)[0]\n",
    "idx_lst = [idx_arr.item(ii) for ii in range(0,len(idx_arr))] # transform from an array to a list\n",
    "\n",
    "temp = np.zeros((1,nbpix**2))\n",
    "Mreal_split = np.zeros((len(idx_lst), nbpix**2))\n",
    "for ii in range(0,len(idx_lst)):\n",
    "    Mreal_split[ii,idx_lst[ii]] = 1    "
   ]
  },
  {
   "cell_type": "code",
   "execution_count": 104,
   "metadata": {},
   "outputs": [
    {
     "data": {
      "image/png": "[encoded data removed]",
      "text/plain": [
       "<Figure size 432x288 with 2 Axes>"
      ]
     },
     "metadata": {},
     "output_type": "display_data"
    }
   ],
   "source": [
    "# then lets use the trained model to predict the mangled response of all of these one pixel image\n",
    "# and we rebuild the full image by adding up all the result matrixes\n",
    "res = np.zeros((len(idx_lst), nbpix**2))\n",
    "Mres = np.zeros((nbpix,nbpix))\n",
    "for ii in range(0,len(idx_lst)):\n",
    "    res[ii,:] = model.predict(np.expand_dims(Mreal_split[ii], axis=0))\n",
    "    Mres = Mres + res[ii,:].reshape(nbpix,nbpix)\n",
    "Mres\n",
    "plt.imshow(Mres)\n",
    "plt.colorbar()\n",
    "plt.show()"
   ]
  },
  {
   "cell_type": "code",
   "execution_count": 103,
   "metadata": {},
   "outputs": [
    {
     "data": {
      "text/plain": [
       "array([[0.00106271, 0.92980552, 0.01026519, 0.00177133, 0.003441  ,\n",
       "        0.00456045, 0.01110965, 0.00118796, 0.00538641, 0.00238797,\n",
       "        0.00864589, 0.00182953, 0.00931579, 0.00352275, 0.00261754,\n",
       "        0.00309028],\n",
       "       [0.00106271, 0.92980552, 0.01026519, 0.00177133, 0.003441  ,\n",
       "        0.00456045, 0.01110965, 0.00118796, 0.00538641, 0.00238797,\n",
       "        0.00864589, 0.00182953, 0.00931579, 0.00352275, 0.00261754,\n",
       "        0.00309028],\n",
       "       [0.00106271, 0.92980552, 0.01026519, 0.00177133, 0.003441  ,\n",
       "        0.00456045, 0.01110965, 0.00118796, 0.00538641, 0.00238797,\n",
       "        0.00864589, 0.00182953, 0.00931579, 0.00352275, 0.00261754,\n",
       "        0.00309028],\n",
       "       [0.00106271, 0.92980552, 0.01026519, 0.00177133, 0.003441  ,\n",
       "        0.00456045, 0.01110965, 0.00118796, 0.00538641, 0.00238797,\n",
       "        0.00864589, 0.00182953, 0.00931579, 0.00352275, 0.00261754,\n",
       "        0.00309028]])"
      ]
     },
     "execution_count": 103,
     "metadata": {},
     "output_type": "execute_result"
    }
   ],
   "source": [
    "# Now that we have the Mreal and the Mres\n",
    "# let's calculated the estimated transformation matrix\n",
    "Pest = M"
   ]
  },
  {
   "cell_type": "code",
   "execution_count": null,
   "metadata": {},
   "outputs": [],
   "source": []
  },
  {
   "cell_type": "code",
   "execution_count": null,
   "metadata": {},
   "outputs": [],
   "source": []
  },
  {
   "cell_type": "code",
   "execution_count": null,
   "metadata": {},
   "outputs": [],
   "source": []
  },
  {
   "cell_type": "code",
   "execution_count": null,
   "metadata": {},
   "outputs": [],
   "source": []
  },
  {
   "cell_type": "code",
   "execution_count": null,
   "metadata": {},
   "outputs": [],
   "source": []
  },
  {
   "cell_type": "code",
   "execution_count": null,
   "metadata": {},
   "outputs": [],
   "source": []
  },
  {
   "cell_type": "code",
   "execution_count": 244,
   "metadata": {},
   "outputs": [
    {
     "name": "stdout",
     "output_type": "stream",
     "text": [
      "(420, 16)\n",
      "(180, 16)\n"
     ]
    },
    {
     "data": {
      "image/png": "[encoded data removed]",
      "text/plain": [
       "<Figure size 576x576 with 4 Axes>"
      ]
     },
     "metadata": {},
     "output_type": "display_data"
    }
   ],
   "source": [
    "train_idx = np.sort(random.sample(range(1, nb_sample), round(0.7*nb_sample)))\n",
    "\n",
    "X_train = Mreal_tab[train_idx]\n",
    "X_test = np.delete(Mreal_tab, train_idx, 0)\n",
    "\n",
    "y_train = Mstar_tab[train_idx]\n",
    "y_test =np.delete(Mstar_tab, train_idx, 0)\n",
    "\n",
    "\n",
    "print(X_train.shape)\n",
    "print(X_test.shape)\n",
    "\n",
    "# df2 = data.drop_duplicates()\n",
    "# df2.count()\n",
    "n = 30\n",
    "vis_matrices(X_train[n,:].reshape(nbpix,nbpix), X_train[n,:].reshape(nbpix,nbpix)@P, y_train[n,:].reshape(nbpix,nbpix), P)"
   ]
  },
  {
   "cell_type": "markdown",
   "metadata": {},
   "source": [
    "- an artificial feed-forward-type multi-layer neural network configured, e.g., using the Error-Backpropagation algorithm; \n",
    "- a Hopfield-type Attractor neural network configured with, e.g., the Projection Rule or the Pseudoinverse algorithm; \n",
    "- and/or a recurrent neural network trained, e.g., with algo rithms such as Real-Time Recurrent Learning algorithm and the Time-Dependent Recurrent Backpropagation to determine a vision solution. "
   ]
  },
  {
   "cell_type": "code",
   "execution_count": 245,
   "metadata": {},
   "outputs": [
    {
     "name": "stderr",
     "output_type": "stream",
     "text": [
      "C:\\Users\\MariO\\Anaconda3\\lib\\site-packages\\h5py\\__init__.py:36: FutureWarning: Conversion of the second argument of issubdtype from `float` to `np.floating` is deprecated. In future, it will be treated as `np.float64 == np.dtype(float).type`.\n",
      "  from ._conv import register_converters as _register_converters\n",
      "Using TensorFlow backend.\n"
     ]
    }
   ],
   "source": []
  },
  {
   "cell_type": "code",
   "execution_count": 246,
   "metadata": {},
   "outputs": [],
   "source": [
    "# df_train = data.sample(0.8)\n",
    "# df_test = data.sample(2000)\n",
    "model = Sequential()"
   ]
  },
  {
   "cell_type": "code",
   "execution_count": 249,
   "metadata": {},
   "outputs": [],
   "source": [
    "# first hiden layer\n"
   ]
  },
  {
   "cell_type": "code",
   "execution_count": null,
   "metadata": {},
   "outputs": [],
   "source": []
  }
 ],
 "metadata": {
  "kernelspec": {
   "display_name": "Python 3",
   "language": "python",
   "name": "python3"
  },
  "language_info": {
   "codemirror_mode": {
    "name": "ipython",
    "version": 3
   },
   "file_extension": ".py",
   "mimetype": "text/x-python",
   "name": "python",
   "nbconvert_exporter": "python",
   "pygments_lexer": "ipython3",
   "version": "3.6.5"
  }
 },
 "nbformat": 4,
 "nbformat_minor": 2
}
